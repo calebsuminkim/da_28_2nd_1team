{
 "cells": [
  {
   "cell_type": "code",
   "execution_count": 96,
   "id": "6140f643",
   "metadata": {},
   "outputs": [],
   "source": [
    "import warnings\n",
    "warnings.simplefilter(action='ignore', category=FutureWarning) # FutureWarning 제거"
   ]
  },
  {
   "cell_type": "code",
   "execution_count": 97,
   "id": "9350598b",
   "metadata": {},
   "outputs": [],
   "source": [
    "import numpy as np\n",
    "import pandas as pd\n",
    "import seaborn as sns\n",
    "import matplotlib as plt\n",
    "\n",
    "from sklearn.model_selection import train_test_split\n",
    "from sklearn.preprocessing import LabelEncoder\n",
    "from sklearn.preprocessing import StandardScaler\n",
    "from sklearn.preprocessing import OneHotEncoder\n",
    "from sklearn.compose import ColumnTransformer\n",
    "\n",
    "from sklearn.neighbors import KNeighborsClassifier\n",
    "\n",
    "from sklearn.pipeline import Pipeline\n",
    "from sklearn.base import BaseEstimator, TransformerMixin"
   ]
  },
  {
   "cell_type": "code",
   "execution_count": 98,
   "id": "b0a4bea1",
   "metadata": {},
   "outputs": [],
   "source": [
    "df=pd.read_csv('datasets/train.csv')"
   ]
  },
  {
   "cell_type": "code",
   "execution_count": 99,
   "id": "228a91a7",
   "metadata": {},
   "outputs": [
    {
     "data": {
      "text/html": [
       "<div>\n",
       "<style scoped>\n",
       "    .dataframe tbody tr th:only-of-type {\n",
       "        vertical-align: middle;\n",
       "    }\n",
       "\n",
       "    .dataframe tbody tr th {\n",
       "        vertical-align: top;\n",
       "    }\n",
       "\n",
       "    .dataframe thead th {\n",
       "        text-align: right;\n",
       "    }\n",
       "</style>\n",
       "<table border=\"1\" class=\"dataframe\">\n",
       "  <thead>\n",
       "    <tr style=\"text-align: right;\">\n",
       "      <th></th>\n",
       "      <th>id</th>\n",
       "      <th>log_price</th>\n",
       "      <th>property_type</th>\n",
       "      <th>room_type</th>\n",
       "      <th>amenities</th>\n",
       "      <th>accommodates</th>\n",
       "      <th>bathrooms</th>\n",
       "      <th>bed_type</th>\n",
       "      <th>cancellation_policy</th>\n",
       "      <th>cleaning_fee</th>\n",
       "      <th>...</th>\n",
       "      <th>latitude</th>\n",
       "      <th>longitude</th>\n",
       "      <th>name</th>\n",
       "      <th>neighbourhood</th>\n",
       "      <th>number_of_reviews</th>\n",
       "      <th>review_scores_rating</th>\n",
       "      <th>thumbnail_url</th>\n",
       "      <th>zipcode</th>\n",
       "      <th>bedrooms</th>\n",
       "      <th>beds</th>\n",
       "    </tr>\n",
       "  </thead>\n",
       "  <tbody>\n",
       "    <tr>\n",
       "      <th>0</th>\n",
       "      <td>6901257</td>\n",
       "      <td>5.010635</td>\n",
       "      <td>Apartment</td>\n",
       "      <td>Entire home/apt</td>\n",
       "      <td>{\"Wireless Internet\",\"Air conditioning\",Kitche...</td>\n",
       "      <td>3</td>\n",
       "      <td>1.0</td>\n",
       "      <td>Real Bed</td>\n",
       "      <td>strict</td>\n",
       "      <td>True</td>\n",
       "      <td>...</td>\n",
       "      <td>40.696524</td>\n",
       "      <td>-73.991617</td>\n",
       "      <td>Beautiful brownstone 1-bedroom</td>\n",
       "      <td>Brooklyn Heights</td>\n",
       "      <td>2</td>\n",
       "      <td>100.0</td>\n",
       "      <td>https://a0.muscache.com/im/pictures/6d7cbbf7-c...</td>\n",
       "      <td>11201</td>\n",
       "      <td>1.0</td>\n",
       "      <td>1.0</td>\n",
       "    </tr>\n",
       "    <tr>\n",
       "      <th>1</th>\n",
       "      <td>6304928</td>\n",
       "      <td>5.129899</td>\n",
       "      <td>Apartment</td>\n",
       "      <td>Entire home/apt</td>\n",
       "      <td>{\"Wireless Internet\",\"Air conditioning\",Kitche...</td>\n",
       "      <td>7</td>\n",
       "      <td>1.0</td>\n",
       "      <td>Real Bed</td>\n",
       "      <td>strict</td>\n",
       "      <td>True</td>\n",
       "      <td>...</td>\n",
       "      <td>40.766115</td>\n",
       "      <td>-73.989040</td>\n",
       "      <td>Superb 3BR Apt Located Near Times Square</td>\n",
       "      <td>Hell's Kitchen</td>\n",
       "      <td>6</td>\n",
       "      <td>93.0</td>\n",
       "      <td>https://a0.muscache.com/im/pictures/348a55fe-4...</td>\n",
       "      <td>10019</td>\n",
       "      <td>3.0</td>\n",
       "      <td>3.0</td>\n",
       "    </tr>\n",
       "    <tr>\n",
       "      <th>2</th>\n",
       "      <td>7919400</td>\n",
       "      <td>4.976734</td>\n",
       "      <td>Apartment</td>\n",
       "      <td>Entire home/apt</td>\n",
       "      <td>{TV,\"Cable TV\",\"Wireless Internet\",\"Air condit...</td>\n",
       "      <td>5</td>\n",
       "      <td>1.0</td>\n",
       "      <td>Real Bed</td>\n",
       "      <td>moderate</td>\n",
       "      <td>True</td>\n",
       "      <td>...</td>\n",
       "      <td>40.808110</td>\n",
       "      <td>-73.943756</td>\n",
       "      <td>The Garden Oasis</td>\n",
       "      <td>Harlem</td>\n",
       "      <td>10</td>\n",
       "      <td>92.0</td>\n",
       "      <td>https://a0.muscache.com/im/pictures/6fae5362-9...</td>\n",
       "      <td>10027</td>\n",
       "      <td>1.0</td>\n",
       "      <td>3.0</td>\n",
       "    </tr>\n",
       "    <tr>\n",
       "      <th>3</th>\n",
       "      <td>13418779</td>\n",
       "      <td>6.620073</td>\n",
       "      <td>House</td>\n",
       "      <td>Entire home/apt</td>\n",
       "      <td>{TV,\"Cable TV\",Internet,\"Wireless Internet\",Ki...</td>\n",
       "      <td>4</td>\n",
       "      <td>1.0</td>\n",
       "      <td>Real Bed</td>\n",
       "      <td>flexible</td>\n",
       "      <td>True</td>\n",
       "      <td>...</td>\n",
       "      <td>37.772004</td>\n",
       "      <td>-122.431619</td>\n",
       "      <td>Beautiful Flat in the Heart of SF!</td>\n",
       "      <td>Lower Haight</td>\n",
       "      <td>0</td>\n",
       "      <td>NaN</td>\n",
       "      <td>https://a0.muscache.com/im/pictures/72208dad-9...</td>\n",
       "      <td>94117.0</td>\n",
       "      <td>2.0</td>\n",
       "      <td>2.0</td>\n",
       "    </tr>\n",
       "    <tr>\n",
       "      <th>4</th>\n",
       "      <td>3808709</td>\n",
       "      <td>4.744932</td>\n",
       "      <td>Apartment</td>\n",
       "      <td>Entire home/apt</td>\n",
       "      <td>{TV,Internet,\"Wireless Internet\",\"Air conditio...</td>\n",
       "      <td>2</td>\n",
       "      <td>1.0</td>\n",
       "      <td>Real Bed</td>\n",
       "      <td>moderate</td>\n",
       "      <td>True</td>\n",
       "      <td>...</td>\n",
       "      <td>38.925627</td>\n",
       "      <td>-77.034596</td>\n",
       "      <td>Great studio in midtown DC</td>\n",
       "      <td>Columbia Heights</td>\n",
       "      <td>4</td>\n",
       "      <td>40.0</td>\n",
       "      <td>NaN</td>\n",
       "      <td>20009</td>\n",
       "      <td>0.0</td>\n",
       "      <td>1.0</td>\n",
       "    </tr>\n",
       "    <tr>\n",
       "      <th>...</th>\n",
       "      <td>...</td>\n",
       "      <td>...</td>\n",
       "      <td>...</td>\n",
       "      <td>...</td>\n",
       "      <td>...</td>\n",
       "      <td>...</td>\n",
       "      <td>...</td>\n",
       "      <td>...</td>\n",
       "      <td>...</td>\n",
       "      <td>...</td>\n",
       "      <td>...</td>\n",
       "      <td>...</td>\n",
       "      <td>...</td>\n",
       "      <td>...</td>\n",
       "      <td>...</td>\n",
       "      <td>...</td>\n",
       "      <td>...</td>\n",
       "      <td>...</td>\n",
       "      <td>...</td>\n",
       "      <td>...</td>\n",
       "      <td>...</td>\n",
       "    </tr>\n",
       "    <tr>\n",
       "      <th>74106</th>\n",
       "      <td>14549287</td>\n",
       "      <td>4.605170</td>\n",
       "      <td>Apartment</td>\n",
       "      <td>Private room</td>\n",
       "      <td>{}</td>\n",
       "      <td>1</td>\n",
       "      <td>1.0</td>\n",
       "      <td>Real Bed</td>\n",
       "      <td>flexible</td>\n",
       "      <td>False</td>\n",
       "      <td>...</td>\n",
       "      <td>40.709025</td>\n",
       "      <td>-73.939405</td>\n",
       "      <td>one room bushwick</td>\n",
       "      <td>Williamsburg</td>\n",
       "      <td>0</td>\n",
       "      <td>NaN</td>\n",
       "      <td>https://a0.muscache.com/im/pictures/55162426/6...</td>\n",
       "      <td>11206.0</td>\n",
       "      <td>1.0</td>\n",
       "      <td>1.0</td>\n",
       "    </tr>\n",
       "    <tr>\n",
       "      <th>74107</th>\n",
       "      <td>13281809</td>\n",
       "      <td>5.043425</td>\n",
       "      <td>Apartment</td>\n",
       "      <td>Entire home/apt</td>\n",
       "      <td>{TV,\"Cable TV\",Internet,\"Wireless Internet\",Ki...</td>\n",
       "      <td>4</td>\n",
       "      <td>2.0</td>\n",
       "      <td>Real Bed</td>\n",
       "      <td>moderate</td>\n",
       "      <td>True</td>\n",
       "      <td>...</td>\n",
       "      <td>33.871549</td>\n",
       "      <td>-118.396053</td>\n",
       "      <td>Spacious Hermosa 2 BR on PCH</td>\n",
       "      <td>Hermosa Beach</td>\n",
       "      <td>16</td>\n",
       "      <td>93.0</td>\n",
       "      <td>https://a0.muscache.com/im/pictures/2b86560b-a...</td>\n",
       "      <td>90254</td>\n",
       "      <td>2.0</td>\n",
       "      <td>4.0</td>\n",
       "    </tr>\n",
       "    <tr>\n",
       "      <th>74108</th>\n",
       "      <td>18688039</td>\n",
       "      <td>5.220356</td>\n",
       "      <td>Apartment</td>\n",
       "      <td>Entire home/apt</td>\n",
       "      <td>{TV,Internet,\"Wireless Internet\",\"Air conditio...</td>\n",
       "      <td>5</td>\n",
       "      <td>1.0</td>\n",
       "      <td>Real Bed</td>\n",
       "      <td>moderate</td>\n",
       "      <td>True</td>\n",
       "      <td>...</td>\n",
       "      <td>40.706749</td>\n",
       "      <td>-73.942377</td>\n",
       "      <td>Modern 2 Bedroom Apartment in Williamsburg</td>\n",
       "      <td>Williamsburg</td>\n",
       "      <td>43</td>\n",
       "      <td>94.0</td>\n",
       "      <td>https://a0.muscache.com/im/pictures/7fbe448c-5...</td>\n",
       "      <td>11206.0</td>\n",
       "      <td>2.0</td>\n",
       "      <td>2.0</td>\n",
       "    </tr>\n",
       "    <tr>\n",
       "      <th>74109</th>\n",
       "      <td>17045948</td>\n",
       "      <td>5.273000</td>\n",
       "      <td>Apartment</td>\n",
       "      <td>Entire home/apt</td>\n",
       "      <td>{TV,\"Wireless Internet\",\"Air conditioning\",Kit...</td>\n",
       "      <td>2</td>\n",
       "      <td>1.0</td>\n",
       "      <td>Real Bed</td>\n",
       "      <td>strict</td>\n",
       "      <td>True</td>\n",
       "      <td>...</td>\n",
       "      <td>40.738535</td>\n",
       "      <td>-74.000157</td>\n",
       "      <td>Designer's Apartment in HEART of NYC</td>\n",
       "      <td>West Village</td>\n",
       "      <td>0</td>\n",
       "      <td>NaN</td>\n",
       "      <td>https://a0.muscache.com/im/pictures/b3971b63-0...</td>\n",
       "      <td>10011</td>\n",
       "      <td>0.0</td>\n",
       "      <td>2.0</td>\n",
       "    </tr>\n",
       "    <tr>\n",
       "      <th>74110</th>\n",
       "      <td>3534845</td>\n",
       "      <td>4.852030</td>\n",
       "      <td>Boat</td>\n",
       "      <td>Entire home/apt</td>\n",
       "      <td>{TV,Internet,\"Wireless Internet\",Kitchen,\"Free...</td>\n",
       "      <td>4</td>\n",
       "      <td>1.0</td>\n",
       "      <td>Real Bed</td>\n",
       "      <td>moderate</td>\n",
       "      <td>False</td>\n",
       "      <td>...</td>\n",
       "      <td>33.761096</td>\n",
       "      <td>-118.192409</td>\n",
       "      <td>Cozy Boat at Shoreline Village</td>\n",
       "      <td>Long Beach</td>\n",
       "      <td>205</td>\n",
       "      <td>96.0</td>\n",
       "      <td>https://a0.muscache.com/im/pictures/22968537/d...</td>\n",
       "      <td>90802</td>\n",
       "      <td>1.0</td>\n",
       "      <td>2.0</td>\n",
       "    </tr>\n",
       "  </tbody>\n",
       "</table>\n",
       "<p>74111 rows × 29 columns</p>\n",
       "</div>"
      ],
      "text/plain": [
       "             id  log_price property_type        room_type  \\\n",
       "0       6901257   5.010635     Apartment  Entire home/apt   \n",
       "1       6304928   5.129899     Apartment  Entire home/apt   \n",
       "2       7919400   4.976734     Apartment  Entire home/apt   \n",
       "3      13418779   6.620073         House  Entire home/apt   \n",
       "4       3808709   4.744932     Apartment  Entire home/apt   \n",
       "...         ...        ...           ...              ...   \n",
       "74106  14549287   4.605170     Apartment     Private room   \n",
       "74107  13281809   5.043425     Apartment  Entire home/apt   \n",
       "74108  18688039   5.220356     Apartment  Entire home/apt   \n",
       "74109  17045948   5.273000     Apartment  Entire home/apt   \n",
       "74110   3534845   4.852030          Boat  Entire home/apt   \n",
       "\n",
       "                                               amenities  accommodates  \\\n",
       "0      {\"Wireless Internet\",\"Air conditioning\",Kitche...             3   \n",
       "1      {\"Wireless Internet\",\"Air conditioning\",Kitche...             7   \n",
       "2      {TV,\"Cable TV\",\"Wireless Internet\",\"Air condit...             5   \n",
       "3      {TV,\"Cable TV\",Internet,\"Wireless Internet\",Ki...             4   \n",
       "4      {TV,Internet,\"Wireless Internet\",\"Air conditio...             2   \n",
       "...                                                  ...           ...   \n",
       "74106                                                 {}             1   \n",
       "74107  {TV,\"Cable TV\",Internet,\"Wireless Internet\",Ki...             4   \n",
       "74108  {TV,Internet,\"Wireless Internet\",\"Air conditio...             5   \n",
       "74109  {TV,\"Wireless Internet\",\"Air conditioning\",Kit...             2   \n",
       "74110  {TV,Internet,\"Wireless Internet\",Kitchen,\"Free...             4   \n",
       "\n",
       "       bathrooms  bed_type cancellation_policy  cleaning_fee  ...   latitude  \\\n",
       "0            1.0  Real Bed              strict          True  ...  40.696524   \n",
       "1            1.0  Real Bed              strict          True  ...  40.766115   \n",
       "2            1.0  Real Bed            moderate          True  ...  40.808110   \n",
       "3            1.0  Real Bed            flexible          True  ...  37.772004   \n",
       "4            1.0  Real Bed            moderate          True  ...  38.925627   \n",
       "...          ...       ...                 ...           ...  ...        ...   \n",
       "74106        1.0  Real Bed            flexible         False  ...  40.709025   \n",
       "74107        2.0  Real Bed            moderate          True  ...  33.871549   \n",
       "74108        1.0  Real Bed            moderate          True  ...  40.706749   \n",
       "74109        1.0  Real Bed              strict          True  ...  40.738535   \n",
       "74110        1.0  Real Bed            moderate         False  ...  33.761096   \n",
       "\n",
       "        longitude                                        name  \\\n",
       "0      -73.991617              Beautiful brownstone 1-bedroom   \n",
       "1      -73.989040    Superb 3BR Apt Located Near Times Square   \n",
       "2      -73.943756                            The Garden Oasis   \n",
       "3     -122.431619          Beautiful Flat in the Heart of SF!   \n",
       "4      -77.034596                  Great studio in midtown DC   \n",
       "...           ...                                         ...   \n",
       "74106  -73.939405                           one room bushwick   \n",
       "74107 -118.396053                Spacious Hermosa 2 BR on PCH   \n",
       "74108  -73.942377  Modern 2 Bedroom Apartment in Williamsburg   \n",
       "74109  -74.000157        Designer's Apartment in HEART of NYC   \n",
       "74110 -118.192409              Cozy Boat at Shoreline Village   \n",
       "\n",
       "          neighbourhood number_of_reviews review_scores_rating  \\\n",
       "0      Brooklyn Heights                 2                100.0   \n",
       "1        Hell's Kitchen                 6                 93.0   \n",
       "2                Harlem                10                 92.0   \n",
       "3          Lower Haight                 0                  NaN   \n",
       "4      Columbia Heights                 4                 40.0   \n",
       "...                 ...               ...                  ...   \n",
       "74106      Williamsburg                 0                  NaN   \n",
       "74107     Hermosa Beach                16                 93.0   \n",
       "74108      Williamsburg                43                 94.0   \n",
       "74109      West Village                 0                  NaN   \n",
       "74110        Long Beach               205                 96.0   \n",
       "\n",
       "                                           thumbnail_url  zipcode bedrooms  \\\n",
       "0      https://a0.muscache.com/im/pictures/6d7cbbf7-c...    11201      1.0   \n",
       "1      https://a0.muscache.com/im/pictures/348a55fe-4...    10019      3.0   \n",
       "2      https://a0.muscache.com/im/pictures/6fae5362-9...    10027      1.0   \n",
       "3      https://a0.muscache.com/im/pictures/72208dad-9...  94117.0      2.0   \n",
       "4                                                    NaN    20009      0.0   \n",
       "...                                                  ...      ...      ...   \n",
       "74106  https://a0.muscache.com/im/pictures/55162426/6...  11206.0      1.0   \n",
       "74107  https://a0.muscache.com/im/pictures/2b86560b-a...    90254      2.0   \n",
       "74108  https://a0.muscache.com/im/pictures/7fbe448c-5...  11206.0      2.0   \n",
       "74109  https://a0.muscache.com/im/pictures/b3971b63-0...    10011      0.0   \n",
       "74110  https://a0.muscache.com/im/pictures/22968537/d...    90802      1.0   \n",
       "\n",
       "       beds  \n",
       "0       1.0  \n",
       "1       3.0  \n",
       "2       3.0  \n",
       "3       2.0  \n",
       "4       1.0  \n",
       "...     ...  \n",
       "74106   1.0  \n",
       "74107   4.0  \n",
       "74108   2.0  \n",
       "74109   2.0  \n",
       "74110   2.0  \n",
       "\n",
       "[74111 rows x 29 columns]"
      ]
     },
     "execution_count": 99,
     "metadata": {},
     "output_type": "execute_result"
    }
   ],
   "source": [
    "df"
   ]
  },
  {
   "cell_type": "markdown",
   "id": "b5e4f5fa",
   "metadata": {},
   "source": [
    "### amenities 개수 추가하기"
   ]
  },
  {
   "cell_type": "code",
   "execution_count": 100,
   "id": "82ff48c1",
   "metadata": {},
   "outputs": [],
   "source": [
    "df['amenities']=list(map(lambda x:len(x.split(',')), df['amenities']))"
   ]
  },
  {
   "cell_type": "code",
   "execution_count": 101,
   "id": "c06f6f3e",
   "metadata": {},
   "outputs": [],
   "source": [
    "columns=['log_price', 'property_type', 'room_type', 'amenities', 'accommodates',\n",
    "       'bathrooms', 'bed_type', 'cancellation_policy', 'city',\n",
    "       'latitude', 'longitude', 'neighbourhood', 'bedrooms', 'beds']"
   ]
  },
  {
   "cell_type": "code",
   "execution_count": 102,
   "id": "21657507",
   "metadata": {},
   "outputs": [],
   "source": [
    "X=df[columns].copy()"
   ]
  },
  {
   "cell_type": "code",
   "execution_count": 103,
   "id": "3650c0cd",
   "metadata": {},
   "outputs": [
    {
     "data": {
      "text/plain": [
       "(74111, 14)"
      ]
     },
     "execution_count": 103,
     "metadata": {},
     "output_type": "execute_result"
    }
   ],
   "source": [
    "X.shape"
   ]
  },
  {
   "cell_type": "markdown",
   "id": "a2c67b8a",
   "metadata": {},
   "source": [
    "# total_train, total_test split"
   ]
  },
  {
   "cell_type": "code",
   "execution_count": 147,
   "id": "36a92df2",
   "metadata": {},
   "outputs": [],
   "source": [
    "total_train, total_test = train_test_split(X, test_size=0.2, random_state=42)"
   ]
  },
  {
   "cell_type": "code",
   "execution_count": 148,
   "id": "36491e0d",
   "metadata": {},
   "outputs": [
    {
     "data": {
      "text/plain": [
       "((59288, 14), (14823, 14))"
      ]
     },
     "execution_count": 148,
     "metadata": {},
     "output_type": "execute_result"
    }
   ],
   "source": [
    "total_train.shape, total_test.shape"
   ]
  },
  {
   "cell_type": "code",
   "execution_count": 106,
   "id": "719c528b",
   "metadata": {},
   "outputs": [],
   "source": [
    "train, test = train_test_split(total_train, test_size=0.2, random_state=42)"
   ]
  },
  {
   "cell_type": "code",
   "execution_count": 107,
   "id": "b2ef9eb7",
   "metadata": {},
   "outputs": [
    {
     "data": {
      "text/plain": [
       "((47430, 14), (11858, 14))"
      ]
     },
     "execution_count": 107,
     "metadata": {},
     "output_type": "execute_result"
    }
   ],
   "source": [
    "train.shape, test.shape"
   ]
  },
  {
   "cell_type": "markdown",
   "id": "6a3af117",
   "metadata": {},
   "source": [
    "# 전처리 과정"
   ]
  },
  {
   "cell_type": "markdown",
   "id": "4245f0b4",
   "metadata": {},
   "source": [
    "1. 누락값 넣기:\n",
    "    - neighbourhood...KNeighborsCLF\n",
    "    - beds...means\n",
    "    - bedrooms...means\n",
    "    - bathrooms...means\n",
    "</br></br>\n",
    "2. 특성 추가하기:\n",
    "    - GroupBy([city, Neighbourhoods]).mean()['log_price']\n",
    "    - GroupBy([city, Neighbourhoods]).count()['id']\n",
    "    - GroupBy([property_type]).mean()['log_price']\n",
    "</br></br>    \n",
    "3. 수치형 특성...?\n",
    "    - StandardScaler\n",
    "    </br></br>\n",
    "4. 범주형 특성...?\n",
    "    - OneHotEncoding"
   ]
  },
  {
   "cell_type": "markdown",
   "id": "00a48d42",
   "metadata": {},
   "source": [
    "# null값 처리"
   ]
  },
  {
   "cell_type": "markdown",
   "id": "a75d4613",
   "metadata": {},
   "source": [
    "### neighbourhood\n",
    "- KNeighborsClassifier 사용"
   ]
  },
  {
   "cell_type": "code",
   "execution_count": 108,
   "id": "3efc0c56",
   "metadata": {},
   "outputs": [],
   "source": [
    "class NeighbourhoodImputer(BaseEstimator, TransformerMixin):\n",
    "    \n",
    "    def fit(self, X, y=None):\n",
    "        X=X[X['neighbourhood'].notnull()].copy()\n",
    "        X=X[['longitude', 'latitude', 'neighbourhood']].copy()\n",
    "        feature=X.drop(columns='neighbourhood')\n",
    "\n",
    "        self.label_enc=LabelEncoder()\n",
    "        self.label_enc.fit(X['neighbourhood'])\n",
    "        target=self.label_enc.transform(X['neighbourhood'])\n",
    "        \n",
    "        self.kne_clf=KNeighborsClassifier(n_neighbors=5)\n",
    "        self.kne_clf.fit(feature,target)\n",
    "        \n",
    "        return self\n",
    "    \n",
    "    def transform(self, X, y=None):\n",
    "        K = X[['longitude', 'latitude']].copy()\n",
    "        K['neighbourhood']=self.kne_clf.predict(K).copy()\n",
    "        K = K.drop(columns=['longitude', 'latitude']).copy()\n",
    "        K['neighbourhood']=self.label_enc.inverse_transform(K['neighbourhood'])\n",
    "        X['neighbourhood']=K['neighbourhood']\n",
    "        X.drop(columns=['longitude', 'latitude'], inplace=True)\n",
    "        return X\n"
   ]
  },
  {
   "cell_type": "markdown",
   "id": "2ed8475a",
   "metadata": {},
   "source": [
    "### property_type, room_type....침대의 개수(평균개수)"
   ]
  },
  {
   "cell_type": "code",
   "execution_count": 109,
   "id": "ab25ae41",
   "metadata": {},
   "outputs": [],
   "source": [
    "class BedsImputer(BaseEstimator, TransformerMixin):\n",
    "    \n",
    "    def fit(self, X, y=None):\n",
    "        X['room_type']=df['room_type'].copy()\n",
    "        self.avg_beds_by_room_type=X.groupby('room_type').mean()['beds']\n",
    "        X.drop('room_type', inplace=True, axis=1)\n",
    "        return self        \n",
    "    \n",
    "    def transform(self, X, y=None):\n",
    "        X=X.copy()\n",
    "        X['room_type']=df['room_type'].copy()\n",
    "        X_null_beds = X[X['beds'].isnull()].index\n",
    "        for idx in X_null_beds:\n",
    "            X.at[idx, 'beds'] = self.avg_beds_by_room_type[X.at[idx, 'room_type']]\n",
    "        return X\n",
    "    \n",
    "    def get_feature_names_out(self, feature_names_in):\n",
    "        return feature_names_in"
   ]
  },
  {
   "cell_type": "markdown",
   "id": "3754efc3",
   "metadata": {},
   "source": [
    "### property_type, room_type....침실의 개수(평균개수)"
   ]
  },
  {
   "cell_type": "code",
   "execution_count": 110,
   "id": "cf457c17",
   "metadata": {},
   "outputs": [],
   "source": [
    "class BedroomsImputer(BaseEstimator, TransformerMixin):        \n",
    "    \n",
    "    def fit(self, X, y=None):\n",
    "        X['room_type']=df['room_type'].copy()\n",
    "        self.avg_bedrooms_by_room_type=X.groupby('room_type').mean()['bedrooms']\n",
    "        X.drop('room_type', inplace=True, axis=1)\n",
    "        return self\n",
    "    \n",
    "    def transform(self, X, y=None):\n",
    "        X=X.copy()\n",
    "        X['room_type']=df['room_type'].copy()\n",
    "        X_null_bedrooms = X[X['bedrooms'].isnull()].index\n",
    "        for idx in X_null_bedrooms:\n",
    "            X.at[idx, 'bedrooms'] = self.avg_bedrooms_by_room_type[X.at[idx, 'room_type']]\n",
    "        return X\n",
    "    \n",
    "    def get_feature_names_out(self, feature_names_in):\n",
    "        return feature_names_in"
   ]
  },
  {
   "cell_type": "markdown",
   "id": "1159b4d6",
   "metadata": {},
   "source": [
    "### property_type, room_type....화장실의 개수(평균개수)"
   ]
  },
  {
   "cell_type": "code",
   "execution_count": 111,
   "id": "c882c305",
   "metadata": {},
   "outputs": [],
   "source": [
    "class BathroomsImputer(BaseEstimator, TransformerMixin):\n",
    "    \n",
    "    def fit(self, X, y=None):\n",
    "        X['room_type']=df['room_type'].copy()\n",
    "        self.avg_bathrooms_by_room_type=X.groupby('room_type').mean()['bathrooms']\n",
    "        X.drop('room_type', inplace=True, axis=1)\n",
    "        return self\n",
    "    \n",
    "    def transform(self, X, y=None):\n",
    "        X=X.copy()\n",
    "        X['room_type']=df.loc[:,'room_type']\n",
    "        X_null_bathrooms = X[X['bathrooms'].isnull()].index\n",
    "        for idx in X_null_bathrooms:\n",
    "            X.at[idx, 'bathrooms'] = self.avg_bathrooms_by_room_type[X.at[idx, 'room_type']]\n",
    "        return X\n",
    "    \n",
    "    def get_feature_names_out(self, feature_names_in):\n",
    "        return feature_names_in"
   ]
  },
  {
   "cell_type": "code",
   "execution_count": 112,
   "id": "e59d2d13",
   "metadata": {},
   "outputs": [],
   "source": [
    "impute_pipeline=Pipeline([\n",
    "    ('impute_neighbourhood', NeighbourhoodImputer()),\n",
    "    ('impute_beds', BedsImputer()),\n",
    "    ('impute_bedrooms', BedroomsImputer()),\n",
    "    ('impute_bathrooms', BathroomsImputer())    \n",
    "])"
   ]
  },
  {
   "cell_type": "markdown",
   "id": "08f8d6ed",
   "metadata": {},
   "source": [
    "# 특성 추가"
   ]
  },
  {
   "cell_type": "code",
   "execution_count": 113,
   "id": "bac5bca7",
   "metadata": {},
   "outputs": [],
   "source": [
    "tc=train.copy()"
   ]
  },
  {
   "cell_type": "code",
   "execution_count": 114,
   "id": "a0aa5a71",
   "metadata": {},
   "outputs": [],
   "source": [
    "ttc=test.copy()"
   ]
  },
  {
   "cell_type": "markdown",
   "id": "9b638f0d",
   "metadata": {},
   "source": [
    "### GroupBy(City, Neighbourhood) 가격 평균"
   ]
  },
  {
   "cell_type": "code",
   "execution_count": 115,
   "id": "c20796cb",
   "metadata": {},
   "outputs": [],
   "source": [
    "class MeanPriceGrouped(BaseEstimator, TransformerMixin):\n",
    "    def fit(self, X, y=None):\n",
    "        self.mean_price_grouped = pd.DataFrame(X.groupby(['city', 'neighbourhood']).mean()['log_price'])\n",
    "        return self\n",
    "    \n",
    "    def transform(self, X, y=None):\n",
    "        mpg=self.mean_price_grouped\n",
    "        mpg_=mpg.reset_index()\n",
    "        total_mpg=pd.merge(left=mpg_, right=X, how='left',\n",
    "                          on=['city', 'neighbourhood'], sort=False)\n",
    "        total_mpg.rename(columns={'log_price_x':'grouped_mean_price', 'log_price_y':'log_price'}, \n",
    "                      inplace=True)\n",
    "        X=total_mpg.copy()\n",
    "        \n",
    "        return X"
   ]
  },
  {
   "cell_type": "markdown",
   "id": "5fa39289",
   "metadata": {},
   "source": [
    "### GroupBy(City, Neighbourhood) Count"
   ]
  },
  {
   "cell_type": "code",
   "execution_count": 116,
   "id": "d6af7cb6",
   "metadata": {},
   "outputs": [],
   "source": [
    "class CountGrouped(BaseEstimator, TransformerMixin):\n",
    "    def fit(self, X, y=None):\n",
    "        self.cnt_grouped = pd.DataFrame(X.groupby(['city', 'neighbourhood']).count()['log_price'])\n",
    "        return self\n",
    "    \n",
    "    def transform(self, X, y=None):\n",
    "        cg=self.cnt_grouped\n",
    "        cg_=cg.reset_index()\n",
    "        total_cg=pd.merge(left=cg_, right=X, how='left',\n",
    "                          on=['city', 'neighbourhood'], sort=False)\n",
    "        \n",
    "        total_cg.rename(columns={'log_price_x':'grouped_count','log_price_y':'log_price'}, inplace=True)\n",
    "        X=total_cg.copy()\n",
    "        X.drop(columns=['city','neighbourhood'], inplace=True)\n",
    "        return X"
   ]
  },
  {
   "cell_type": "markdown",
   "id": "ab3f49d2",
   "metadata": {},
   "source": [
    "### property_type...groupby해서 평균가격"
   ]
  },
  {
   "cell_type": "code",
   "execution_count": 117,
   "id": "cbb48fc9",
   "metadata": {},
   "outputs": [],
   "source": [
    "class MeanPriceGroupedPro(BaseEstimator, TransformerMixin):\n",
    "    def fit(self, X, y=None):\n",
    "        self.mean_price_grouped = pd.DataFrame(X.groupby('property_type').mean()['log_price'])\n",
    "        return self\n",
    "    \n",
    "    def transform(self, X, y=None):\n",
    "        mpg=self.mean_price_grouped\n",
    "        mpg_=mpg.reset_index()\n",
    "        total_mpg=pd.merge(left=mpg_, right=X, how='left',\n",
    "                          on=['property_type'], sort=False)\n",
    "        total_mpg.rename(columns={'log_price_x':'property_mean_price', 'log_price_y':'log_price'}, \n",
    "                      inplace=True)\n",
    "        X=total_mpg.copy()\n",
    "        X.drop(columns='property_type', inplace=True)\n",
    "        return X"
   ]
  },
  {
   "cell_type": "code",
   "execution_count": 118,
   "id": "a3e72153",
   "metadata": {},
   "outputs": [],
   "source": [
    "add_attrib_pipeline=Pipeline(steps=[\n",
    "    ('mpg', MeanPriceGrouped()),\n",
    "    ('cg', CountGrouped()),\n",
    "    ('mpgp', MeanPriceGroupedPro())\n",
    "])"
   ]
  },
  {
   "cell_type": "code",
   "execution_count": 119,
   "id": "d04f20e9",
   "metadata": {},
   "outputs": [],
   "source": [
    "num_transformer=Pipeline(steps=[\n",
    "    ('impute', impute_pipeline),\n",
    "    ('add_attrib', add_attrib_pipeline),\n",
    "])"
   ]
  },
  {
   "cell_type": "code",
   "execution_count": 120,
   "id": "06ca570d",
   "metadata": {},
   "outputs": [],
   "source": [
    "num_prepared = num_transformer.fit_transform(train)"
   ]
  },
  {
   "cell_type": "code",
   "execution_count": 121,
   "id": "f0bd0b3b",
   "metadata": {},
   "outputs": [],
   "source": [
    "ohe=OneHotEncoder(sparse=False)\n",
    "\n",
    "cat_cat=num_prepared[['bed_type', 'room_type', 'cancellation_policy']]\n",
    "ohe.fit(cat_cat)\n",
    "cat_prepared=pd.DataFrame(data=ohe.transform(cat_cat), columns=ohe.get_feature_names_out())"
   ]
  },
  {
   "cell_type": "code",
   "execution_count": 122,
   "id": "2d2ca812",
   "metadata": {},
   "outputs": [],
   "source": [
    "train_label=num_prepared['log_price'].copy()"
   ]
  },
  {
   "cell_type": "code",
   "execution_count": 123,
   "id": "aa766f3b",
   "metadata": {},
   "outputs": [],
   "source": [
    "num_prepared.drop(columns=['log_price', 'bed_type', 'room_type', 'cancellation_policy'], inplace=True)\n",
    "\n",
    "std_scaler=StandardScaler()\n",
    "std_scaler.fit(num_prepared)\n",
    "num_prepared=pd.DataFrame(data=std_scaler.transform(num_prepared), columns=std_scaler.get_feature_names_out())"
   ]
  },
  {
   "cell_type": "code",
   "execution_count": 124,
   "id": "497f09e7",
   "metadata": {},
   "outputs": [],
   "source": [
    "train_prepared=pd.concat([num_prepared, cat_prepared], axis=1)"
   ]
  },
  {
   "cell_type": "code",
   "execution_count": 125,
   "id": "bb77f527",
   "metadata": {},
   "outputs": [
    {
     "data": {
      "text/plain": [
       "(47430, 21)"
      ]
     },
     "execution_count": 125,
     "metadata": {},
     "output_type": "execute_result"
    }
   ],
   "source": [
    "train_prepared.shape"
   ]
  },
  {
   "cell_type": "code",
   "execution_count": 126,
   "id": "d4182e34",
   "metadata": {},
   "outputs": [
    {
     "data": {
      "text/plain": [
       "(47430,)"
      ]
     },
     "execution_count": 126,
     "metadata": {},
     "output_type": "execute_result"
    }
   ],
   "source": [
    "train_label.shape"
   ]
  },
  {
   "cell_type": "code",
   "execution_count": 127,
   "id": "b9612cd1",
   "metadata": {},
   "outputs": [],
   "source": [
    "from sklearn.metrics import mean_squared_error\n",
    "from sklearn.model_selection import cross_val_score"
   ]
  },
  {
   "cell_type": "code",
   "execution_count": 128,
   "id": "4b818b6b",
   "metadata": {},
   "outputs": [],
   "source": [
    "X_train, X_test, y_train, y_test = train_test_split(train_prepared, train_label, test_size=0.2, random_state=42)"
   ]
  },
  {
   "cell_type": "code",
   "execution_count": 129,
   "id": "24c4bf8b",
   "metadata": {},
   "outputs": [
    {
     "data": {
      "text/plain": [
       "((37944, 21), (9486, 21))"
      ]
     },
     "execution_count": 129,
     "metadata": {},
     "output_type": "execute_result"
    }
   ],
   "source": [
    "X_train.shape, X_test.shape"
   ]
  },
  {
   "cell_type": "code",
   "execution_count": 130,
   "id": "17e958dc",
   "metadata": {},
   "outputs": [
    {
     "data": {
      "text/plain": [
       "((37944,), (9486,))"
      ]
     },
     "execution_count": 130,
     "metadata": {},
     "output_type": "execute_result"
    }
   ],
   "source": [
    "y_train.shape, y_test.shape"
   ]
  },
  {
   "cell_type": "code",
   "execution_count": null,
   "id": "51e3e8f2",
   "metadata": {},
   "outputs": [],
   "source": []
  },
  {
   "cell_type": "markdown",
   "id": "d1b896f0",
   "metadata": {},
   "source": [
    "## LinearReg, RandomForestReg, SGDReg"
   ]
  },
  {
   "cell_type": "code",
   "execution_count": 57,
   "id": "078a67be",
   "metadata": {},
   "outputs": [],
   "source": [
    "scores = {}"
   ]
  },
  {
   "cell_type": "code",
   "execution_count": 58,
   "id": "802b3777",
   "metadata": {},
   "outputs": [],
   "source": [
    "# LinearRegression\n",
    "lin_reg = LinearRegression()\n",
    "scores['lin_scores'] = cross_val_score(lin_reg, X_train, y_train, scoring='neg_mean_squared_error', cv=10, n_jobs=-1)\n",
    "\n",
    "# RandomForestRegressor\n",
    "rf_reg = RandomForestRegressor(random_state=42)\n",
    "scores['rf_scores'] = cross_val_score(rf_reg, X_train, y_train, scoring='neg_mean_squared_error', cv=10, n_jobs=-1)\n",
    "\n",
    "# SGDRegressor\n",
    "sgd_reg = SGDRegressor(penalty=None, eta0=0.001, random_state=42)\n",
    "scores['sgd_scores'] = cross_val_score(sgd_reg, X_train, y_train, scoring='neg_mean_squared_error', cv=10, n_jobs=-1)"
   ]
  },
  {
   "cell_type": "code",
   "execution_count": 59,
   "id": "75f42c7e",
   "metadata": {},
   "outputs": [
    {
     "name": "stdout",
     "output_type": "stream",
     "text": [
      "-lin_scores    / /평균: 0.4302918328975496 /표준편차: 0.006667393888454507\n",
      "-rf_scores     / /평균: 0.43449473815057627 /표준편차: 0.006077491379839128\n",
      "-sgd_scores    / /평균: 0.430345568147002 /표준편차: 0.0067070824045228775\n",
      "best_model: lin_scores\n"
     ]
    }
   ],
   "source": [
    "min_score = 1\n",
    "best_model = 'best_model'\n",
    "\n",
    "for k, v in scores.items():\n",
    "    print('-{0:<14}/'.format(k), end=' ')\n",
    "    score = np.sqrt(-v)\n",
    "    print('/평균:', score.mean(), '/표준편차:', score.std())\n",
    "    if min_score >= score.mean():\n",
    "        min_score = score.mean()\n",
    "        best_model = k\n",
    "        \n",
    "print('best_model:', best_model)"
   ]
  },
  {
   "cell_type": "code",
   "execution_count": 60,
   "id": "156e032a",
   "metadata": {},
   "outputs": [],
   "source": [
    "from sklearn.model_selection import GridSearchCV"
   ]
  },
  {
   "cell_type": "code",
   "execution_count": 61,
   "id": "0436d53b",
   "metadata": {},
   "outputs": [
    {
     "name": "stdout",
     "output_type": "stream",
     "text": [
      "Wall time: 16min 47s\n"
     ]
    },
    {
     "data": {
      "text/plain": [
       "GridSearchCV(cv=5, estimator=RandomForestRegressor(random_state=42), n_jobs=-1,\n",
       "             param_grid={'max_features': [4, 6, 8, 10],\n",
       "                         'n_estimators': [10, 50, 100, 150, 200]},\n",
       "             scoring='neg_mean_squared_error')"
      ]
     },
     "execution_count": 61,
     "metadata": {},
     "output_type": "execute_result"
    }
   ],
   "source": [
    "param_grid = {'n_estimators' : [10, 50, 100, 150, 200], 'max_features' : [4, 6, 8, 10]}\n",
    "\n",
    "grid_search = GridSearchCV(rf_reg, param_grid, scoring='neg_mean_squared_error', cv=5, n_jobs=-1)\n",
    "%time grid_search.fit(X_train, y_train)"
   ]
  },
  {
   "cell_type": "code",
   "execution_count": 62,
   "id": "b7855164",
   "metadata": {},
   "outputs": [
    {
     "data": {
      "text/plain": [
       "{'max_features': 6, 'n_estimators': 200}"
      ]
     },
     "execution_count": 62,
     "metadata": {},
     "output_type": "execute_result"
    }
   ],
   "source": [
    "grid_search.best_params_"
   ]
  },
  {
   "cell_type": "code",
   "execution_count": 63,
   "id": "a5a9170d",
   "metadata": {
    "scrolled": true
   },
   "outputs": [
    {
     "name": "stdout",
     "output_type": "stream",
     "text": [
      "0.44436536245005087 {'max_features': 4, 'n_estimators': 10}\n",
      "0.4310976259780144 {'max_features': 4, 'n_estimators': 50}\n",
      "0.4294229315513291 {'max_features': 4, 'n_estimators': 100}\n",
      "0.42871278447361033 {'max_features': 4, 'n_estimators': 150}\n",
      "0.42848948700211514 {'max_features': 4, 'n_estimators': 200}\n",
      "0.4450825633116809 {'max_features': 6, 'n_estimators': 10}\n",
      "0.4311961489191606 {'max_features': 6, 'n_estimators': 50}\n",
      "0.4291794427321841 {'max_features': 6, 'n_estimators': 100}\n",
      "0.4285490005943287 {'max_features': 6, 'n_estimators': 150}\n",
      "0.4284740242700577 {'max_features': 6, 'n_estimators': 200}\n",
      "0.4455651127072156 {'max_features': 8, 'n_estimators': 10}\n",
      "0.43209848227583747 {'max_features': 8, 'n_estimators': 50}\n",
      "0.4301188784349158 {'max_features': 8, 'n_estimators': 100}\n",
      "0.4294511311686339 {'max_features': 8, 'n_estimators': 150}\n",
      "0.4292965525230079 {'max_features': 8, 'n_estimators': 200}\n",
      "0.44703315058597753 {'max_features': 10, 'n_estimators': 10}\n",
      "0.43278159675444244 {'max_features': 10, 'n_estimators': 50}\n",
      "0.43098665378385426 {'max_features': 10, 'n_estimators': 100}\n",
      "0.43015145220385514 {'max_features': 10, 'n_estimators': 150}\n",
      "0.43009362026624826 {'max_features': 10, 'n_estimators': 200}\n"
     ]
    }
   ],
   "source": [
    "cv_results = grid_search.cv_results_\n",
    "for mean_score, params in zip(cv_results['mean_test_score'], cv_results['params']):\n",
    "    print(np.sqrt(-mean_score), params)"
   ]
  },
  {
   "cell_type": "code",
   "execution_count": 64,
   "id": "058e30a0",
   "metadata": {},
   "outputs": [
    {
     "name": "stdout",
     "output_type": "stream",
     "text": [
      "Wall time: 29min 51s\n"
     ]
    },
    {
     "data": {
      "text/plain": [
       "RandomizedSearchCV(cv=5, estimator=RandomForestRegressor(random_state=42),\n",
       "                   n_jobs=-1,\n",
       "                   param_distributions={'max_features': <scipy.stats._distn_infrastructure.rv_discrete_frozen object at 0x000001E5D3C4A130>,\n",
       "                                        'n_estimators': <scipy.stats._distn_infrastructure.rv_discrete_frozen object at 0x000001E5D3BDE970>},\n",
       "                   scoring='neg_mean_squared_error')"
      ]
     },
     "execution_count": 64,
     "metadata": {},
     "output_type": "execute_result"
    }
   ],
   "source": [
    "from sklearn.model_selection import RandomizedSearchCV\n",
    "from scipy.stats import randint\n",
    "\n",
    "param_distribs = {'n_estimators':randint(low=200, high=600), 'max_features':randint(low=1, high=8)}\n",
    "\n",
    "random_search = RandomizedSearchCV(rf_reg, param_distribs, n_iter=10, scoring='neg_mean_squared_error', cv=5, n_jobs=-1) \n",
    "# n_iter : 반복 횟수\n",
    "\n",
    "%time random_search.fit(X_train, y_train)"
   ]
  },
  {
   "cell_type": "code",
   "execution_count": 65,
   "id": "95d32ce3",
   "metadata": {},
   "outputs": [
    {
     "data": {
      "text/plain": [
       "{'max_features': 5, 'n_estimators': 589}"
      ]
     },
     "execution_count": 65,
     "metadata": {},
     "output_type": "execute_result"
    }
   ],
   "source": [
    "random_search.best_params_"
   ]
  },
  {
   "cell_type": "code",
   "execution_count": 66,
   "id": "acdda81c",
   "metadata": {
    "scrolled": true
   },
   "outputs": [
    {
     "name": "stdout",
     "output_type": "stream",
     "text": [
      "0.42789986598395563 {'max_features': 5, 'n_estimators': 589}\n",
      "0.42801002139074357 {'max_features': 4, 'n_estimators': 376}\n",
      "0.4308609446171341 {'max_features': 1, 'n_estimators': 217}\n",
      "0.428111597390346 {'max_features': 6, 'n_estimators': 360}\n",
      "0.427979936478499 {'max_features': 6, 'n_estimators': 465}\n",
      "0.4287196495049835 {'max_features': 7, 'n_estimators': 269}\n",
      "0.4297198282223856 {'max_features': 2, 'n_estimators': 209}\n",
      "0.4293499387872352 {'max_features': 2, 'n_estimators': 400}\n",
      "0.42928031806453715 {'max_features': 2, 'n_estimators': 476}\n",
      "0.4304583500124867 {'max_features': 1, 'n_estimators': 338}\n"
     ]
    }
   ],
   "source": [
    "cv_results = random_search.cv_results_\n",
    "for mean_score, params in zip(cv_results['mean_test_score'], cv_results['params']):\n",
    "    print(np.sqrt(-mean_score), params)"
   ]
  },
  {
   "cell_type": "code",
   "execution_count": 67,
   "id": "bd630c86",
   "metadata": {},
   "outputs": [],
   "source": [
    "best_model = random_search.best_estimator_"
   ]
  },
  {
   "cell_type": "markdown",
   "id": "223d9ae6",
   "metadata": {},
   "source": [
    "## "
   ]
  },
  {
   "cell_type": "markdown",
   "id": "d0308f2d",
   "metadata": {},
   "source": [
    "### ElasticNet"
   ]
  },
  {
   "cell_type": "code",
   "execution_count": 36,
   "id": "d70492be",
   "metadata": {},
   "outputs": [
    {
     "data": {
      "text/plain": [
       "0.7164166623766047"
      ]
     },
     "execution_count": 36,
     "metadata": {},
     "output_type": "execute_result"
    }
   ],
   "source": [
    "from sklearn.linear_model import ElasticNet\n",
    "\n",
    "elastic=ElasticNet(random_state=42)\n",
    "elastic_score=cross_val_score(elastic, X_train, y_train, scoring='neg_mean_squared_error', cv=5, n_jobs=-1)\n",
    "elastic_rmse=np.sqrt(-elastic_score.mean())\n",
    "\n",
    "elastic_rmse"
   ]
  },
  {
   "cell_type": "markdown",
   "id": "2c304e34",
   "metadata": {},
   "source": [
    "### KNeighborsRegressor"
   ]
  },
  {
   "cell_type": "code",
   "execution_count": 37,
   "id": "4a6b48ec",
   "metadata": {},
   "outputs": [
    {
     "data": {
      "text/plain": [
       "0.4530340084920557"
      ]
     },
     "execution_count": 37,
     "metadata": {},
     "output_type": "execute_result"
    }
   ],
   "source": [
    "from sklearn.neighbors import KNeighborsRegressor\n",
    "\n",
    "kne_reg=KNeighborsRegressor()\n",
    "kne_score=cross_val_score(kne_reg, X_train, y_train, scoring='neg_mean_squared_error', cv=5, n_jobs=-1)\n",
    "kne_rmse=np.sqrt(-kne_score.mean())\n",
    "\n",
    "kne_rmse"
   ]
  },
  {
   "cell_type": "markdown",
   "id": "19245202",
   "metadata": {},
   "source": [
    "### RandomForestRegressor"
   ]
  },
  {
   "cell_type": "code",
   "execution_count": 38,
   "id": "a1206e93",
   "metadata": {},
   "outputs": [
    {
     "data": {
      "text/plain": [
       "0.43777216852129486"
      ]
     },
     "execution_count": 38,
     "metadata": {},
     "output_type": "execute_result"
    }
   ],
   "source": [
    "from sklearn.ensemble import RandomForestRegressor\n",
    "\n",
    "rf_reg=RandomForestRegressor(random_state=42)\n",
    "rf_score=cross_val_score(rf_reg, X_train, y_train, scoring='neg_mean_squared_error', cv=5, n_jobs=-1)\n",
    "rf_rmse=np.sqrt(-rf_score.mean())\n",
    "rf_rmse"
   ]
  },
  {
   "cell_type": "markdown",
   "id": "91ec08a7",
   "metadata": {},
   "source": [
    "### SVR"
   ]
  },
  {
   "cell_type": "code",
   "execution_count": 39,
   "id": "e1ce305c",
   "metadata": {},
   "outputs": [
    {
     "data": {
      "text/plain": [
       "0.4202154664676149"
      ]
     },
     "execution_count": 39,
     "metadata": {},
     "output_type": "execute_result"
    }
   ],
   "source": [
    "from sklearn.svm import SVR\n",
    "\n",
    "svr=SVR()\n",
    "svr_score=cross_val_score(svr, X_train, y_train, cv=5, scoring='neg_mean_squared_error', n_jobs=-1)\n",
    "svr_rmse=np.sqrt(-svr_score.mean())\n",
    "svr_rmse"
   ]
  },
  {
   "cell_type": "markdown",
   "id": "40480dd0",
   "metadata": {},
   "source": [
    "### Voting"
   ]
  },
  {
   "cell_type": "code",
   "execution_count": 40,
   "id": "126cd653",
   "metadata": {},
   "outputs": [
    {
     "data": {
      "text/plain": [
       "0.41982131943439754"
      ]
     },
     "execution_count": 40,
     "metadata": {},
     "output_type": "execute_result"
    }
   ],
   "source": [
    "from sklearn.ensemble import VotingRegressor\n",
    "\n",
    "voting_reg=VotingRegressor(estimators=[\n",
    "    ('rf_reg', rf_reg),\n",
    "    ('svr', svr),\n",
    "    ('kne_reg', kne_reg)\n",
    "])\n",
    "voting_score=cross_val_score(voting_reg, X_train, y_train, cv=5, scoring='neg_mean_squared_error', n_jobs=-1)\n",
    "voting_rmse=np.sqrt(-voting_score.mean())\n",
    "voting_rmse"
   ]
  },
  {
   "cell_type": "markdown",
   "id": "5b2eb497",
   "metadata": {},
   "source": [
    "# 모델 훈련하기"
   ]
  },
  {
   "cell_type": "code",
   "execution_count": 41,
   "id": "135a5334",
   "metadata": {},
   "outputs": [],
   "source": [
    "from sklearn.model_selection import GridSearchCV"
   ]
  },
  {
   "cell_type": "code",
   "execution_count": 42,
   "id": "d065958e",
   "metadata": {},
   "outputs": [
    {
     "name": "stdout",
     "output_type": "stream",
     "text": [
      "Wall time: 1h 26min 9s\n"
     ]
    },
    {
     "data": {
      "text/plain": [
       "-0.18346262959462425"
      ]
     },
     "execution_count": 42,
     "metadata": {},
     "output_type": "execute_result"
    }
   ],
   "source": [
    "from sklearn.ensemble import RandomForestRegressor\n",
    "\n",
    "rf_reg=RandomForestRegressor(random_state=42)\n",
    "rf_param={\n",
    "    'n_estimators':[i for i in range(100,901,50)],\n",
    "    'max_features':['auto', 'sqrt', 'log2'],\n",
    "    'bootstrap':[True, False]\n",
    "}\n",
    "gs_rf=GridSearchCV(rf_reg, rf_param, cv=5, scoring='neg_mean_squared_error', n_jobs=-1)\n",
    "\n",
    "%time gs_rf.fit(X_train, y_train)\n",
    "rf_best=gs_rf.best_estimator_\n",
    "\n",
    "gs_rf.best_score_"
   ]
  },
  {
   "cell_type": "code",
   "execution_count": 175,
   "id": "0cf7857f",
   "metadata": {},
   "outputs": [
    {
     "data": {
      "text/plain": [
       "0.42832537818184935"
      ]
     },
     "execution_count": 175,
     "metadata": {},
     "output_type": "execute_result"
    }
   ],
   "source": [
    "np.sqrt(-gs_rf.best_score_)"
   ]
  },
  {
   "cell_type": "code",
   "execution_count": 171,
   "id": "381aea63",
   "metadata": {},
   "outputs": [
    {
     "data": {
      "text/plain": [
       "{'bootstrap': True, 'max_features': 'sqrt', 'n_estimators': 600}"
      ]
     },
     "execution_count": 171,
     "metadata": {},
     "output_type": "execute_result"
    }
   ],
   "source": [
    "gs_rf.best_params_"
   ]
  },
  {
   "cell_type": "code",
   "execution_count": 43,
   "id": "520210e3",
   "metadata": {},
   "outputs": [],
   "source": [
    "best_model=gs_rf.best_estimator_"
   ]
  },
  {
   "cell_type": "markdown",
   "id": "89548011",
   "metadata": {},
   "source": [
    "# 특성 중요도 "
   ]
  },
  {
   "cell_type": "code",
   "execution_count": 44,
   "id": "274986dd",
   "metadata": {},
   "outputs": [],
   "source": [
    "feature_importances=best_model.feature_importances_"
   ]
  },
  {
   "cell_type": "code",
   "execution_count": 50,
   "id": "a17a0336",
   "metadata": {},
   "outputs": [],
   "source": [
    "total_attribs=['property_mean_price', 'grouped_count', 'grouped_mean_price',\n",
    "       'amenities', 'accommodates', 'bathrooms', 'bedrooms', 'beds',\n",
    "       'bed_type_Airbed', 'bed_type_Couch', 'bed_type_Futon',\n",
    "       'bed_type_Pull-out Sofa', 'bed_type_Real Bed',\n",
    "       'room_type_Entire home/apt', 'room_type_Private room',\n",
    "       'room_type_Shared room', 'cancellation_policy_flexible',\n",
    "       'cancellation_policy_moderate', 'cancellation_policy_strict',\n",
    "       'cancellation_policy_super_strict_30',\n",
    "       'cancellation_policy_super_strict_60']"
   ]
  },
  {
   "cell_type": "code",
   "execution_count": 51,
   "id": "6a38c485",
   "metadata": {},
   "outputs": [
    {
     "data": {
      "text/plain": [
       "[(0.20054366013107336, 'grouped_mean_price'),\n",
       " (0.14450363819311654, 'room_type_Entire home/apt'),\n",
       " (0.0995425379390661, 'bedrooms'),\n",
       " (0.09896619958024447, 'amenities'),\n",
       " (0.09754159935405605, 'accommodates'),\n",
       " (0.09297224672862503, 'room_type_Private room'),\n",
       " (0.07893106392984879, 'grouped_count'),\n",
       " (0.06443017488856179, 'bathrooms'),\n",
       " (0.0482756490483459, 'beds'),\n",
       " (0.030765606930260224, 'property_mean_price'),\n",
       " (0.01980206305237815, 'room_type_Shared room'),\n",
       " (0.006337318103647558, 'cancellation_policy_flexible'),\n",
       " (0.006007120921970835, 'cancellation_policy_strict'),\n",
       " (0.004688166816049921, 'cancellation_policy_moderate'),\n",
       " (0.002485626698468989, 'bed_type_Real Bed'),\n",
       " (0.001116765221828492, 'bed_type_Airbed'),\n",
       " (0.0009807014220092575, 'bed_type_Futon'),\n",
       " (0.0008918193238768178, 'bed_type_Couch'),\n",
       " (0.0007986329493098841, 'bed_type_Pull-out Sofa'),\n",
       " (0.0002484712375199116, 'cancellation_policy_super_strict_30'),\n",
       " (0.00017093752974198118, 'cancellation_policy_super_strict_60')]"
      ]
     },
     "execution_count": 51,
     "metadata": {},
     "output_type": "execute_result"
    }
   ],
   "source": [
    "sorted(zip(feature_importances, total_attribs), reverse=True)"
   ]
  },
  {
   "cell_type": "markdown",
   "id": "006d75e8",
   "metadata": {},
   "source": [
    "# 최종 예측?"
   ]
  },
  {
   "cell_type": "code",
   "execution_count": 52,
   "id": "1bf051c6",
   "metadata": {},
   "outputs": [
    {
     "data": {
      "text/plain": [
       "0.4332075707895804"
      ]
     },
     "execution_count": 52,
     "metadata": {},
     "output_type": "execute_result"
    }
   ],
   "source": [
    "from sklearn.metrics import mean_squared_error\n",
    "\n",
    "final_pred=best_model.predict(X_test)\n",
    "final_rmse=mean_squared_error(y_test, final_pred, squared=False)\n",
    "final_rmse"
   ]
  },
  {
   "cell_type": "code",
   "execution_count": null,
   "id": "cb871dd9",
   "metadata": {},
   "outputs": [],
   "source": []
  },
  {
   "cell_type": "code",
   "execution_count": null,
   "id": "7d380171",
   "metadata": {},
   "outputs": [],
   "source": []
  },
  {
   "cell_type": "code",
   "execution_count": null,
   "id": "84ac8ba4",
   "metadata": {},
   "outputs": [],
   "source": []
  },
  {
   "cell_type": "code",
   "execution_count": null,
   "id": "e837f60b",
   "metadata": {},
   "outputs": [],
   "source": []
  },
  {
   "cell_type": "markdown",
   "id": "30980931",
   "metadata": {},
   "source": [
    "# total_test로 예측하기"
   ]
  },
  {
   "cell_type": "markdown",
   "id": "708fb84c",
   "metadata": {},
   "source": [
    "### total_test 전처리"
   ]
  },
  {
   "cell_type": "code",
   "execution_count": 149,
   "id": "c16d9f09",
   "metadata": {},
   "outputs": [],
   "source": [
    "num_prepared_test = num_transformer.transform(total_test)"
   ]
  },
  {
   "cell_type": "code",
   "execution_count": 163,
   "id": "68ab7d8c",
   "metadata": {},
   "outputs": [],
   "source": [
    "ohe=OneHotEncoder(sparse=False)\n",
    "\n",
    "cat_cat_test=num_prepared_test2[['bed_type', 'room_type', 'cancellation_policy']]\n",
    "ohe.fit(cat_cat_test)\n",
    "cat_prepared=pd.DataFrame(data=ohe.transform(cat_cat_test), columns=ohe.get_feature_names_out())"
   ]
  },
  {
   "cell_type": "code",
   "execution_count": 164,
   "id": "c1498442",
   "metadata": {},
   "outputs": [],
   "source": [
    "train_label_test=num_prepared_test2['log_price'].copy()"
   ]
  },
  {
   "cell_type": "code",
   "execution_count": 165,
   "id": "bd5f7c36",
   "metadata": {},
   "outputs": [
    {
     "name": "stderr",
     "output_type": "stream",
     "text": [
      "C:\\Users\\thffh\\AppData\\Local\\Temp\\ipykernel_3544\\899444105.py:1: SettingWithCopyWarning: \n",
      "A value is trying to be set on a copy of a slice from a DataFrame\n",
      "\n",
      "See the caveats in the documentation: https://pandas.pydata.org/pandas-docs/stable/user_guide/indexing.html#returning-a-view-versus-a-copy\n",
      "  num_prepared_test2.drop(columns=['log_price', 'bed_type', 'room_type', 'cancellation_policy'], inplace=True)\n"
     ]
    }
   ],
   "source": [
    "num_prepared_test2.drop(columns=['log_price', 'bed_type', 'room_type', 'cancellation_policy'], inplace=True)"
   ]
  },
  {
   "cell_type": "code",
   "execution_count": 166,
   "id": "470bfb42",
   "metadata": {},
   "outputs": [],
   "source": [
    "num_prepared=pd.DataFrame(data=std_scaler.transform(num_prepared_test2), columns=std_scaler.get_feature_names_out())"
   ]
  },
  {
   "cell_type": "code",
   "execution_count": 169,
   "id": "005ccfcf",
   "metadata": {},
   "outputs": [],
   "source": [
    "train_prepared_test=pd.concat([num_prepared, cat_prepared], axis=1)"
   ]
  },
  {
   "cell_type": "markdown",
   "id": "49022d15",
   "metadata": {},
   "source": [
    "### 예측"
   ]
  },
  {
   "cell_type": "code",
   "execution_count": 170,
   "id": "0e76eaa9",
   "metadata": {},
   "outputs": [
    {
     "data": {
      "text/plain": [
       "0.4272172238330357"
      ]
     },
     "execution_count": 170,
     "metadata": {},
     "output_type": "execute_result"
    }
   ],
   "source": [
    "final_pred=best_model.predict(train_prepared_test)\n",
    "final_rmse=mean_squared_error(train_label_test, final_pred, squared=False)\n",
    "final_rmse"
   ]
  },
  {
   "cell_type": "code",
   "execution_count": null,
   "id": "601002a1",
   "metadata": {},
   "outputs": [],
   "source": []
  },
  {
   "cell_type": "markdown",
   "id": "1b956f44",
   "metadata": {},
   "source": [
    "# 신뢰구간"
   ]
  },
  {
   "cell_type": "code",
   "execution_count": 174,
   "id": "90cf1baf",
   "metadata": {},
   "outputs": [
    {
     "data": {
      "text/plain": [
       "array([0.41847432, 0.43578475])"
      ]
     },
     "execution_count": 174,
     "metadata": {},
     "output_type": "execute_result"
    }
   ],
   "source": [
    "from scipy.stats import t\n",
    "\n",
    "squared_errors = (final_pred - train_label_test)**2\n",
    "\n",
    "confidence=0.95\n",
    "\n",
    "n = len(squared_errors)\n",
    "\n",
    "dof=n-1\n",
    "\n",
    "mse=np.mean(squared_errors)\n",
    "\n",
    "sample_std=np.std(squared_errors, ddof=1)\n",
    "\n",
    "std_err=sample_std/n**0.5\n",
    "\n",
    "mse_ci=t.interval(confidence, dof, mse, std_err)\n",
    "\n",
    "rmse_ci = np.sqrt(mse_ci)\n",
    "\n",
    "rmse_ci"
   ]
  }
 ],
 "metadata": {
  "kernelspec": {
   "display_name": "Python 3 (ipykernel)",
   "language": "python",
   "name": "python3"
  },
  "language_info": {
   "codemirror_mode": {
    "name": "ipython",
    "version": 3
   },
   "file_extension": ".py",
   "mimetype": "text/x-python",
   "name": "python",
   "nbconvert_exporter": "python",
   "pygments_lexer": "ipython3",
   "version": "3.9.13"
  }
 },
 "nbformat": 4,
 "nbformat_minor": 5
}
