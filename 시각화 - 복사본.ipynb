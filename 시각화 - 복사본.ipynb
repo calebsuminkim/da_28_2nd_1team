{
 "cells": [
  {
   "cell_type": "code",
   "execution_count": null,
   "id": "bf6f14d1",
   "metadata": {},
   "outputs": [],
   "source": [
    "import pandas as pd\n",
    "import numpy as np\n",
    "import matplotlib.pyplot as plt\n",
    "import seaborn as sns\n",
    "import sklearn\n",
    "\n",
    "df = pd.read_csv(\"./datasets/train.csv\")\n",
    "\n",
    "# df.drop([ 'id',                                              \n",
    "# 'bed_type',              \n",
    "# 'cancellation_policy',                  \n",
    "# 'description',           \n",
    "# 'first_review',          \n",
    "# 'host_has_profile_pic',  \n",
    "# 'host_response_rate',    \n",
    "# 'host_since',             \n",
    "# 'last_review',                  \n",
    "# 'name',                  \n",
    "# 'thumbnail_url',\n",
    "# 'neighbourhood',\n",
    "# 'number_of_reviews'.\n",
    "# 'host_identity_verified',\n",
    "# 'zipcode'],  axis=1, inplace = True)\n",
    "# # 필요없는 컬럼 삭제\n",
    "      "
   ]
  },
  {
   "cell_type": "markdown",
   "id": "3ae06a15",
   "metadata": {},
   "source": [
    "```\n",
    " property_type 집 종류?          room_type\t객실 유형\n",
    " amenities 비품                  accommodates 수용인원\n",
    " bathrooms 욕실                     bed_type 침대 유형\n",
    " cancellation_policy 취소정책   cleaning_fee 청소비 유무\n",
    " city  도시                        description 설명\n",
    " host_has_profile_pic  호스트 프로필,사진 확인              host_identity_verified  호스트 ID 확인\n",
    " host_response_rate 호스트 응답률..? 친절?              host since 언제부터 운영했나 \n",
    " instant bookable  즉시예약 가능한가\n",
    " latitude, longitude 위도,경도                name 객실이름\n",
    " neighbourhood 근처? 지역?                number_of_reviews  리뷰 개수\n",
    " review_scores_rating 리뷰 점수             thumbnail_url 썸네일 링크\n",
    " zipcode 우편번호                                bedrooms | bed   침실수 | 침대수\n",
    "```"
   ]
  },
  {
   "cell_type": "code",
   "execution_count": null,
   "id": "776dc2a2",
   "metadata": {},
   "outputs": [],
   "source": [
    "df['bedrooms'].fillna(0, inplace = True)"
   ]
  },
  {
   "cell_type": "code",
   "execution_count": null,
   "id": "b60847b8",
   "metadata": {
    "scrolled": true
   },
   "outputs": [],
   "source": [
    "df['beds'].fillna(0, inplace = True)"
   ]
  },
  {
   "cell_type": "code",
   "execution_count": null,
   "id": "252a7d7c",
   "metadata": {},
   "outputs": [],
   "source": [
    "df['bed_per_bedrooms'] = df['beds'] / df['bedrooms']\n",
    "df['bed_per_bedrooms']"
   ]
  },
  {
   "cell_type": "code",
   "execution_count": null,
   "id": "1720eb1e",
   "metadata": {},
   "outputs": [],
   "source": [
    "df['bed_per_bedrooms']\n",
    "df['bed_per_bedrooms'].replace( [np.inf, -np.inf], np.nan, inplace = True )\n",
    "df['bed_per_bedrooms'].fillna(0, inplace = True)"
   ]
  },
  {
   "cell_type": "code",
   "execution_count": null,
   "id": "4b13b2c6",
   "metadata": {},
   "outputs": [],
   "source": [
    "df['bed_per_bedrooms']"
   ]
  },
  {
   "cell_type": "code",
   "execution_count": null,
   "id": "50c93290",
   "metadata": {},
   "outputs": [],
   "source": [
    "df['amenities_count']=list(map(lambda x:len(x.split(',')), df['amenities']))\n",
    "df['amenities_count']\n",
    "# 비품 개수 추출 한 새로운 컬럼 "
   ]
  },
  {
   "cell_type": "code",
   "execution_count": null,
   "id": "44b2a61c",
   "metadata": {},
   "outputs": [],
   "source": [
    "# # 비품 목록 삭제\n",
    "# df.drop('amenities', axis=1, inplace = True)"
   ]
  },
  {
   "cell_type": "code",
   "execution_count": null,
   "id": "c2af4b28",
   "metadata": {},
   "outputs": [],
   "source": [
    "df.columns"
   ]
  },
  {
   "cell_type": "code",
   "execution_count": null,
   "id": "a053ef65",
   "metadata": {},
   "outputs": [],
   "source": []
  },
  {
   "cell_type": "code",
   "execution_count": null,
   "id": "b91cfdd0",
   "metadata": {},
   "outputs": [],
   "source": [
    "df.head()"
   ]
  },
  {
   "cell_type": "code",
   "execution_count": null,
   "id": "538b836e",
   "metadata": {},
   "outputs": [],
   "source": [
    "df.info()"
   ]
  },
  {
   "cell_type": "code",
   "execution_count": null,
   "id": "bd750951",
   "metadata": {},
   "outputs": [],
   "source": [
    "df['neighbourhood'].value_counts()"
   ]
  },
  {
   "cell_type": "markdown",
   "id": "5e5816d9",
   "metadata": {},
   "source": [
    "- 수치형 특성 확인"
   ]
  },
  {
   "cell_type": "code",
   "execution_count": null,
   "id": "25aae12d",
   "metadata": {},
   "outputs": [],
   "source": [
    "df.describe()"
   ]
  },
  {
   "cell_type": "code",
   "execution_count": null,
   "id": "47529ab3",
   "metadata": {},
   "outputs": [],
   "source": [
    "df[ df['accommodates'] == df['accommodates'].min() ]"
   ]
  },
  {
   "cell_type": "code",
   "execution_count": null,
   "id": "21f8eaae",
   "metadata": {},
   "outputs": [],
   "source": [
    "# # Nan 값 int형으로 변환\n",
    "# print(df[df['log_price_cat'].isnull()])\n",
    "# df['log_price_cat'] = pd.to_numeric(df['log_price_cat'], errors='coerce')\n",
    "# df = df.dropna(subset=['log_price_cat'])\n",
    "# df['log_price_cat'] = df['log_price_cat'].astype(int)\n",
    "\n",
    "# # Nan값 드랍 후 고유값 조회\n",
    "# df['log_price_cat'].dropna(axis=0, inplace = True)\n",
    "# df['log_price_cat'].unique()\n"
   ]
  },
  {
   "cell_type": "markdown",
   "id": "d770d8d0",
   "metadata": {},
   "source": [
    "- 수치형 특성별 히스토그램"
   ]
  },
  {
   "cell_type": "code",
   "execution_count": null,
   "id": "b9c9b37d",
   "metadata": {},
   "outputs": [],
   "source": [
    "df['bedrooms'].value_counts()"
   ]
  },
  {
   "cell_type": "code",
   "execution_count": null,
   "id": "7d533cfe",
   "metadata": {},
   "outputs": [],
   "source": [
    "df['bed_per_bedrooms'].value_counts()"
   ]
  },
  {
   "cell_type": "code",
   "execution_count": null,
   "id": "5c32fbc3",
   "metadata": {},
   "outputs": [],
   "source": [
    "df['bed_per_bedrooms'].hist(bins=50, figsize=(20, 15), density = True)\n",
    "plt.show()"
   ]
  },
  {
   "cell_type": "code",
   "execution_count": null,
   "id": "f6434bee",
   "metadata": {
    "scrolled": true
   },
   "outputs": [],
   "source": [
    "df.hist(bins=50, figsize=(20, 15), density = True)\n",
    "plt.show()\n"
   ]
  },
  {
   "cell_type": "code",
   "execution_count": null,
   "id": "f89e8033",
   "metadata": {},
   "outputs": [],
   "source": [
    "df.corrwith(df['log_price']).sort_values(ascending=False)\n",
    "# 상관관계 정렬"
   ]
  },
  {
   "cell_type": "code",
   "execution_count": null,
   "id": "416bda8a",
   "metadata": {},
   "outputs": [],
   "source": [
    "fig, axes = plt.subplots(nrows=2, ncols=2, figsize=(14, 6))\n",
    "\n",
    "sns.barplot(data=df, x='accommodates', y='log_price', ax=axes[0][0])\n",
    "sns.barplot(data=df, x='bedrooms', y='log_price', ax=axes[0][1])\n",
    "sns.barplot(data=df, x='beds', y='log_price', ax=axes[1][0])\n",
    "sns.barplot(data=df, x='bathrooms', y='log_price', ax=axes[1][1])\n",
    "\n",
    "plt.show()"
   ]
  },
  {
   "cell_type": "code",
   "execution_count": null,
   "id": "090d9057",
   "metadata": {},
   "outputs": [],
   "source": []
  },
  {
   "cell_type": "code",
   "execution_count": null,
   "id": "942d59ba",
   "metadata": {},
   "outputs": [],
   "source": [
    "fig, axes = plt.subplots(nrows=2, ncols=2, figsize=(12, 6))\n",
    "sns.barplot(data=df, x='amenities_count', y='log_price', ax=axes[0][0])\n",
    "sns.barplot(data=df, x='cleaning_fee', y='log_price', ax=axes[0][1])\n",
    "sns.barplot(data=df, x='review_scores_rating', y='log_price', ax=axes[1][0])\n",
    "sns.barplot(data=df, x='bed_per_bedrooms', y='log_price', ax=axes[1][1])\n",
    "plt.show()"
   ]
  },
  {
   "cell_type": "code",
   "execution_count": null,
   "id": "3169aa97",
   "metadata": {},
   "outputs": [],
   "source": [
    "plt.figure(figsize=(35, 14))\n",
    "sns.countplot(data=df ,x='property_type',hue = 'room_type')\n",
    "plt.show()"
   ]
  },
  {
   "cell_type": "code",
   "execution_count": null,
   "id": "118378df",
   "metadata": {
    "scrolled": true
   },
   "outputs": [],
   "source": [
    "data = df['room_type'].value_counts()\n",
    "\n",
    "data.plot(kind = 'pie', autopct = '%.2f%%')"
   ]
  },
  {
   "cell_type": "code",
   "execution_count": null,
   "id": "e2a475c8",
   "metadata": {},
   "outputs": [],
   "source": [
    "\n",
    "data = df['property_type'].value_counts()\n",
    "\n",
    "data.plot(kind = 'pie', autopct = '%.2f%%')"
   ]
  },
  {
   "cell_type": "code",
   "execution_count": null,
   "id": "76dc7926",
   "metadata": {},
   "outputs": [],
   "source": [
    "fig, axes = plt.subplots(nrows=2, ncols=1, figsize=(14, 6))\n",
    "sns.countplot(data=df, x='property_type', ax=axes[0])\n",
    "sns.countplot(data=df ,x='room_type', ax = axes[1])\n",
    "\n"
   ]
  },
  {
   "cell_type": "code",
   "execution_count": null,
   "id": "6cf527d4",
   "metadata": {},
   "outputs": [],
   "source": [
    "fig, axes = plt.subplots(nrows=3, ncols=1, figsize=(14, 6))\n",
    "\n",
    "\n",
    "\n",
    "sns.countplot(data=df ,x='bathrooms', ax = axes[0])\n",
    "sns.countplot(data=df ,x='bed_type', ax = axes[1])\n",
    "sns.countplot(data=df ,x='cancellation_policy', ax = axes[2])\n"
   ]
  },
  {
   "cell_type": "code",
   "execution_count": null,
   "id": "3ae35294",
   "metadata": {},
   "outputs": [],
   "source": [
    "fig, axes = plt.subplots(figsize=(30 , 10),nrows=3,ncols=1)\n",
    "sns.countplot(data=df ,x='cleaning_fee', ax = axes[0])\n",
    "sns.countplot(data=df ,x='neighbourhood', ax = axes[1])\n",
    "sns.countplot(data=df ,x='amenities_count', ax = axes[2])\n"
   ]
  },
  {
   "cell_type": "code",
   "execution_count": null,
   "id": "22a5ef6b",
   "metadata": {},
   "outputs": [],
   "source": [
    "fig, axes = plt.subplots(figsize=(30 , 5),nrows=3,ncols=1)\n",
    "sns.countplot(data=df ,x='bedrooms', ax = axes[0])\n",
    "sns.countplot(data=df ,x='beds', ax = axes[1])\n",
    "sns.countplot(data=df ,x='bed_per_bedrooms', ax = axes[2])"
   ]
  },
  {
   "cell_type": "code",
   "execution_count": null,
   "id": "64c61b11",
   "metadata": {},
   "outputs": [],
   "source": [
    "df.select_dtypes(object).columns"
   ]
  },
  {
   "cell_type": "code",
   "execution_count": null,
   "id": "1953176f",
   "metadata": {},
   "outputs": [],
   "source": [
    "plt.figure(figsize=(40, 8))\n",
    "sns.barplot(data=df ,x='host_response_rate' , y='log_price')\n",
    "# sort -> 응답률 10% 씩 나누기"
   ]
  },
  {
   "cell_type": "code",
   "execution_count": null,
   "id": "f190dd5a",
   "metadata": {
    "scrolled": true
   },
   "outputs": [],
   "source": [
    "plt.figure(figsize=(40, 8))\n",
    "sns.barplot(data=df ,x='property_type' , y='log_price')"
   ]
  },
  {
   "cell_type": "code",
   "execution_count": null,
   "id": "1e2b4a85",
   "metadata": {},
   "outputs": [],
   "source": [
    "plt.figure(figsize=(40, 8))\n",
    "sns.barplot(data=df ,x='host_since' , y='log_price')\n",
    "# 영엽기간 OR 몇분기"
   ]
  },
  {
   "cell_type": "code",
   "execution_count": null,
   "id": "b86ed5b0",
   "metadata": {},
   "outputs": [],
   "source": [
    "sns.barplot(data=df, x='neighbourhood', y='log_price')\n",
    "# 지역별로 나누고 다시"
   ]
  },
  {
   "cell_type": "code",
   "execution_count": null,
   "id": "80fa2bce",
   "metadata": {},
   "outputs": [],
   "source": [
    "sns.barplot(data=df, x='room_type', y='log_price')"
   ]
  },
  {
   "cell_type": "code",
   "execution_count": null,
   "id": "ec2c5c82",
   "metadata": {},
   "outputs": [],
   "source": [
    "sns.barplot(data=df, x='bed_type', y='log_price')"
   ]
  },
  {
   "cell_type": "code",
   "execution_count": null,
   "id": "99e5df71",
   "metadata": {},
   "outputs": [],
   "source": [
    "sns.barplot(data=df, x='cancellation_policy', y='log_price')"
   ]
  },
  {
   "cell_type": "code",
   "execution_count": null,
   "id": "138d908f",
   "metadata": {},
   "outputs": [],
   "source": [
    "sns.barplot(data=df, x='city', y='log_price' )"
   ]
  },
  {
   "cell_type": "code",
   "execution_count": null,
   "id": "98ab9e42",
   "metadata": {},
   "outputs": [],
   "source": [
    "corr_matrix = df.corr()\n",
    "corr_matrix['log_price'].sort_values(ascending=False)"
   ]
  },
  {
   "cell_type": "code",
   "execution_count": null,
   "id": "1ae0aa6a",
   "metadata": {
    "scrolled": false
   },
   "outputs": [],
   "source": [
    "plt.figure(figsize=(12, 8))\n",
    "corr = df.corr()\n",
    "sns.heatmap(corr, annot=True, fmt='.2f')"
   ]
  },
  {
   "cell_type": "code",
   "execution_count": null,
   "id": "c34fb67f",
   "metadata": {},
   "outputs": [],
   "source": [
    "fig, axes = plt.subplots(nrows=4, ncols=2, figsize=(12, 6))\n",
    "axes[0][0].scatter(df['accommodates'], df['log_price'], alpha=0.1) \n",
    "axes[0][1].scatter(df['bedrooms'], df['log_price'], alpha=0.1) \n",
    "axes[1][0].scatter(df['beds'], df['log_price'], alpha=0.1) \n",
    "axes[1][1].scatter(df['bathrooms'], df['log_price'], alpha=0.1) \n",
    "\n",
    "axes[2][0].scatter(df['amenities_count'], df['log_price'], alpha=0.1)\n",
    "axes[2][1].scatter(df['cleaning_fee'], df['log_price'], alpha=0.1)\n",
    "axes[3][0].scatter(df['review_scores_rating'], df['log_price'], alpha=0.1) \n",
    "axes[3][1].scatter(df['bed_per_bedrooms'], df['log_price'], alpha=0.1) \n",
    "\n",
    "       \n",
    "          # 제목"
   ]
  },
  {
   "cell_type": "code",
   "execution_count": null,
   "id": "c75c2195",
   "metadata": {
    "scrolled": false
   },
   "outputs": [],
   "source": [
    "sns.scatterplot(data = df, x = 'longitude',y= 'latitude',hue = 'room_type')\n",
    "plt.show()"
   ]
  },
  {
   "cell_type": "code",
   "execution_count": null,
   "id": "abb9aa38",
   "metadata": {
    "scrolled": false
   },
   "outputs": [],
   "source": [
    "fig, axes = plt.subplots(nrows=3, ncols=2, figsize=(20, 20))\n",
    "\n",
    "sns.scatterplot(data = df[ df['city'] == 'Boston'  ], x = 'longitude',y= 'latitude',hue = 'room_type', ax=axes[0][0])\n",
    "sns.scatterplot(data = df[ df['city'] == 'Chicago'  ], x = 'longitude',y= 'latitude',hue = 'room_type', ax=axes[0][1])\n",
    "sns.scatterplot(data = df[ df['city'] == 'DC'  ], x = 'longitude',y= 'latitude',hue = 'room_type', ax=axes[1][0])\n",
    "sns.scatterplot(data = df[ df['city'] == 'LA'  ], x = 'longitude',y= 'latitude',hue = 'room_type', ax=axes[1][1])\n",
    "sns.scatterplot(data = df[ df['city'] == 'NYC'  ], x = 'longitude',y= 'latitude',hue = 'room_type', ax=axes[2][0])\n",
    "sns.scatterplot(data = df[ df['city'] == 'SF'  ], x = 'longitude',y= 'latitude',hue = 'room_type', ax=axes[2][1])\n",
    "\n",
    "\n",
    "ax=axes[0][0].set_title('Boston')\n",
    "ax=axes[0][1].set_title('Chicago')\n",
    "ax=axes[1][0].set_title('DC')\n",
    "ax=axes[1][1].set_title('LA')\n",
    "ax=axes[2][0].set_title('NYC')\n",
    "ax=axes[2][1].set_title('SF')\n"
   ]
  },
  {
   "cell_type": "code",
   "execution_count": null,
   "id": "177270b2",
   "metadata": {
    "scrolled": true
   },
   "outputs": [],
   "source": [
    "import folium as g"
   ]
  },
  {
   "cell_type": "code",
   "execution_count": null,
   "id": "f453e5f0",
   "metadata": {
    "scrolled": false
   },
   "outputs": [],
   "source": [
    "NYC_DF = df[ df['city'] == 'NYC']\n",
    "NYC_DF1 = NYC_DF[ NYC_DF['room_type'] == 'Entire home/apt']\n",
    "NYC_DF2 = NYC_DF[ NYC_DF['room_type'] == 'Private room']\n",
    "NYC_DF3 = NYC_DF[ NYC_DF['room_type'] == 'Shared room']\n",
    "\n",
    "nyc_w1 = NYC_DF1[['longitude','latitude' ] ]\n",
    "nyc_w2 = NYC_DF2[['longitude','latitude' ] ]\n",
    "nyc_w3 = NYC_DF3[['longitude','latitude' ] ]\n",
    "nyc_map = g.Map(location = [ nyc_w1.iloc[0][1] , nyc_w1.iloc[0][0] ],\n",
    "zoom_start = 12)\n",
    "nyc_df = df[ df['city'] == 'NYC'  ]\n",
    "\n",
    "for i in range(len( NYC_DF1 )):\n",
    "        g.Circle(\n",
    "        location = [ nyc_w1.iloc[i][1] , nyc_w1.iloc[i][0] ],\n",
    "        radius = 20,\n",
    "        color = 'red').add_to(nyc_map)\n",
    "        \n",
    "for i in range(len( NYC_DF2 )):\n",
    "        g.Circle(\n",
    "        location = [ nyc_w2.iloc[i][1] , nyc_w2.iloc[i][0] ],\n",
    "        radius = 20,\n",
    "        color = 'blue').add_to(nyc_map)\n",
    "        \n",
    "for i in range(len( NYC_DF3 )):\n",
    "        g.Circle(\n",
    "        location = [ nyc_w3.iloc[i][1] , nyc_w3.iloc[i][0] ],\n",
    "        radius = 20,\n",
    "        color = 'green').add_to(nyc_map)\n",
    "        \n",
    "\n",
    "nyc_map"
   ]
  },
  {
   "cell_type": "code",
   "execution_count": null,
   "id": "605ee35c",
   "metadata": {},
   "outputs": [],
   "source": [
    "LA_DF = df[ df['city'] == 'LA']\n",
    "LA_DF1 = LA_DF[ LA_DF['room_type'] == 'Entire home/apt']\n",
    "LA_DF2 = LA_DF[ LA_DF['room_type'] == 'Private room']\n",
    "LA_DF3 = LA_DF[ LA_DF['room_type'] == 'Shared room']\n",
    "\n",
    "la_w1 = LA_DF1[['longitude','latitude' ] ]\n",
    "la_w2 = LA_DF2[['longitude','latitude' ] ]\n",
    "la_w3 = LA_DF3[['longitude','latitude' ] ]\n",
    "la_map = g.Map(location = [ la_w1.iloc[0][1] , la_w1.iloc[0][0] ],\n",
    "zoom_start = 9)\n",
    "la_df = df[ df['city'] == 'LA'  ]\n",
    "\n",
    "for i in range(len( LA_DF1 )):\n",
    "        g.Circle(\n",
    "        location = [ la_w1.iloc[i][1] , la_w1.iloc[i][0] ],\n",
    "        radius = 20,\n",
    "        color = 'red').add_to(la_map)\n",
    "        \n",
    "for i in range(len( LA_DF2 )):\n",
    "        g.Circle(\n",
    "        location = [ la_w2.iloc[i][1] , la_w2.iloc[i][0] ],\n",
    "        radius = 20,\n",
    "        color = 'blue').add_to(la_map)\n",
    "        \n",
    "for i in range(len( LA_DF3 )):\n",
    "        g.Circle(\n",
    "        location = [ la_w3.iloc[i][1] , la_w3.iloc[i][0] ],\n",
    "        radius = 20,\n",
    "        color = 'green').add_to(la_map)\n",
    "        \n",
    "\n",
    "la_map"
   ]
  },
  {
   "cell_type": "code",
   "execution_count": null,
   "id": "22c926a6",
   "metadata": {},
   "outputs": [],
   "source": [
    "SF_DF = df[ df['city'] == 'SF']\n",
    "SF_DF1 = SF_DF[ SF_DF['room_type'] == 'Entire home/apt']\n",
    "\n",
    "SF_DF2 = SF_DF[ SF_DF['room_type'] == 'Private room']\n",
    "\n",
    "SF_DF3 = SF_DF[ SF_DF['room_type'] == 'Shared room']\n",
    "\n",
    "sf_w1 = SF_DF1[['longitude','latitude' ] ]\n",
    "sf_w2 = SF_DF2[['longitude','latitude' ] ]\n",
    "sf_w3 = SF_DF3[['longitude','latitude' ] ]\n",
    "sf_map = g.Map(location = [ sf_w1.iloc[0][1] , sf_w1.iloc[0][0] ],\n",
    "zoom_start = 13)\n",
    "sf_df = df[ df['city'] == 'SF'  ]\n",
    "\n",
    "for i in range(len( SF_DF1 )):\n",
    "        g.Circle(\n",
    "        location = [ sf_w1.iloc[i][1] , sf_w1.iloc[i][0] ],\n",
    "        radius = 20,\n",
    "        color = 'red').add_to(sf_map)\n",
    "        \n",
    "for i in range(len( SF_DF2 )):\n",
    "        g.Circle(\n",
    "        location = [ sf_w2.iloc[i][1] , sf_w2.iloc[i][0] ],\n",
    "        radius = 20,\n",
    "        color = 'blue').add_to(sf_map)\n",
    "        \n",
    "for i in range(len( SF_DF3 )):\n",
    "        g.Circle(\n",
    "        location = [ sf_w3.iloc[i][1] , sf_w3.iloc[i][0] ],\n",
    "        radius = 20,\n",
    "        color = 'green').add_to(sf_map)\n",
    "        \n",
    "\n",
    "sf_map"
   ]
  },
  {
   "cell_type": "code",
   "execution_count": null,
   "id": "1523a149",
   "metadata": {},
   "outputs": [],
   "source": [
    "DC_DF = df[ df['city'] == 'DC']\n",
    "DC_DF1 = DC_DF[ DC_DF['room_type'] == 'Entire home/apt']\n",
    "DC_DF2 = DC_DF[ DC_DF['room_type'] == 'Private room']\n",
    "DC_DF3 = DC_DF[ DC_DF['room_type'] == 'Shared room']\n",
    "\n",
    "dc_w1 = DC_DF1[['longitude','latitude' ] ]\n",
    "dc_w2 = DC_DF2[['longitude','latitude' ] ]\n",
    "dc_w3 = DC_DF3[['longitude','latitude' ] ]\n",
    "dc_map = g.Map(location = [ dc_w1.iloc[0][1] , dc_w1.iloc[0][0] ],\n",
    "zoom_start = 12)\n",
    "dc_df = df[ df['city'] == 'DC'  ]\n",
    "\n",
    "for i in range(len( DC_DF1 )):\n",
    "        g.Circle(\n",
    "        location = [ dc_w1.iloc[i][1] , dc_w1.iloc[i][0] ],\n",
    "        radius = 20,\n",
    "        color = 'red').add_to(dc_map)\n",
    "        \n",
    "for i in range(len( DC_DF2 )):\n",
    "        g.Circle(\n",
    "        location = [ dc_w2.iloc[i][1] , dc_w2.iloc[i][0] ],\n",
    "        radius = 20,\n",
    "        color = 'blue').add_to(dc_map)\n",
    "        \n",
    "for i in range(len( DC_DF3 )):\n",
    "        g.Circle(\n",
    "        location = [ dc_w3.iloc[i][1] , dc_w3.iloc[i][0] ],\n",
    "        radius = 20,\n",
    "        color = 'green').add_to(dc_map)\n",
    "        \n",
    "\n",
    "dc_map\n"
   ]
  },
  {
   "cell_type": "code",
   "execution_count": null,
   "id": "24f3a57d",
   "metadata": {},
   "outputs": [],
   "source": [
    "CG_DF = df[ df['city'] == 'Chicago']\n",
    "CG_DF1 = CG_DF[ CG_DF['room_type'] == 'Entire home/apt']\n",
    "CG_DF2 = CG_DF[ CG_DF['room_type'] == 'Private room']\n",
    "CG_DF3 = CG_DF[ CG_DF['room_type'] == 'Shared room']\n",
    "\n",
    "cg_w1 = CG_DF1[['longitude','latitude' ] ]\n",
    "cg_w2 = CG_DF2[['longitude','latitude' ] ]\n",
    "cg_w3 = CG_DF3[['longitude','latitude' ] ]\n",
    "cg_map = g.Map(location = [ cg_w1.iloc[0][1] , cg_w1.iloc[0][0] ],\n",
    "zoom_start = 12)\n",
    "cg_df = df[ df['city'] == 'Chicago'  ]\n",
    "\n",
    "for i in range(len( CG_DF1 )):\n",
    "        g.Circle(\n",
    "        location = [ cg_w1.iloc[i][1] , cg_w1.iloc[i][0] ],\n",
    "        radius = 20,\n",
    "        color = 'red').add_to(cg_map)\n",
    "        \n",
    "for i in range(len( CG_DF2 )):\n",
    "        g.Circle(\n",
    "        location = [ cg_w2.iloc[i][1] , cg_w2.iloc[i][0] ],\n",
    "        radius = 20,\n",
    "        color = 'blue').add_to(cg_map)\n",
    "        \n",
    "for i in range(len( CG_DF3 )):\n",
    "        g.Circle(\n",
    "        location = [ cg_w3.iloc[i][1] , cg_w3.iloc[i][0] ],\n",
    "        radius = 20,\n",
    "        color = 'green').add_to(cg_map)\n",
    "        \n",
    "\n",
    "cg_map\n"
   ]
  },
  {
   "cell_type": "code",
   "execution_count": null,
   "id": "e69a502d",
   "metadata": {},
   "outputs": [],
   "source": [
    "BT_DF = df[ df['city'] == 'Boston']\n",
    "BT_DF1 = BT_DF[ BT_DF['room_type'] == 'Entire home/apt']\n",
    "BT_DF2 = BT_DF[ BT_DF['room_type'] == 'Private room']\n",
    "BT_DF3 = BT_DF[ BT_DF['room_type'] == 'Shared room']\n",
    "\n",
    "bt_w1 = BT_DF1[['longitude','latitude' ] ]\n",
    "bt_w2 = BT_DF2[['longitude','latitude' ] ]\n",
    "bt_w3 = BT_DF3[['longitude','latitude' ] ]\n",
    "bt_map = g.Map(location = [ bt_w1.iloc[0][1] , bt_w1.iloc[0][0] ],\n",
    "zoom_start = 12)\n",
    "bt_df = df[ df['city'] == 'Boston'  ]\n",
    "\n",
    "for i in range(len( BT_DF1 )):\n",
    "        g.Circle(\n",
    "        location = [ bt_w1.iloc[i][1] , bt_w1.iloc[i][0] ],\n",
    "        radius = 20,\n",
    "        color = 'red').add_to(bt_map)\n",
    "        \n",
    "for i in range(len( BT_DF2 )):\n",
    "        g.Circle(\n",
    "        location = [ bt_w2.iloc[i][1] , bt_w2.iloc[i][0] ],\n",
    "        radius = 20,\n",
    "        color = 'blue').add_to(bt_map)\n",
    "        \n",
    "for i in range(len( BT_DF3 )):\n",
    "        g.Circle(\n",
    "        location = [ bt_w3.iloc[i][1] , bt_w3.iloc[i][0] ],\n",
    "        radius = 20,\n",
    "        color = 'green').add_to(bt_map)\n",
    "        \n",
    "\n",
    "bt_map"
   ]
  },
  {
   "cell_type": "code",
   "execution_count": null,
   "id": "3008f56e",
   "metadata": {
    "scrolled": true
   },
   "outputs": [],
   "source": [
    "\n",
    "DF1 = df[ df['room_type'] == 'Entire home/apt']\n",
    "DF2 = df[ df['room_type'] == 'Private room']\n",
    "DF3 = df[ df['room_type'] == 'Shared room']\n",
    "\n",
    "w1 = DF1[['longitude','latitude' ] ]\n",
    "w2 = DF2[['longitude','latitude' ] ]\n",
    "w3 = DF3[['longitude','latitude' ] ]\n",
    "total_map = g.Map(location = [ w1.iloc[0][1] , w1.iloc[0][0] ],\n",
    "zoom_start = 12)\n",
    "\n",
    "for i in range(len( DF1 )):\n",
    "        g.Circle(\n",
    "        location = [ w1.iloc[i][1] , w1.iloc[i][0] ],\n",
    "        radius = 20,\n",
    "        color = 'red').add_to(total_map)\n",
    "        \n",
    "for i in range(len( DF2 )):\n",
    "        g.Circle(\n",
    "        location = [ w2.iloc[i][1] , w2.iloc[i][0] ],\n",
    "        radius = 20,\n",
    "        color = 'blue').add_to(total_map)\n",
    "        \n",
    "for i in range(len( DF3 )):\n",
    "        g.Circle(\n",
    "        location = [ w3.iloc[i][1] , w3.iloc[i][0] ],\n",
    "        radius = 20,\n",
    "        color = 'green').add_to(total_map)\n",
    "        \n",
    "\n",
    "total_map"
   ]
  },
  {
   "cell_type": "code",
   "execution_count": null,
   "id": "450d6910",
   "metadata": {},
   "outputs": [],
   "source": []
  },
  {
   "cell_type": "code",
   "execution_count": null,
   "id": "816a5a30",
   "metadata": {},
   "outputs": [],
   "source": []
  }
 ],
 "metadata": {
  "kernelspec": {
   "display_name": "Python 3 (ipykernel)",
   "language": "python",
   "name": "python3"
  },
  "language_info": {
   "codemirror_mode": {
    "name": "ipython",
    "version": 3
   },
   "file_extension": ".py",
   "mimetype": "text/x-python",
   "name": "python",
   "nbconvert_exporter": "python",
   "pygments_lexer": "ipython3",
   "version": "3.9.13"
  }
 },
 "nbformat": 4,
 "nbformat_minor": 5
}
