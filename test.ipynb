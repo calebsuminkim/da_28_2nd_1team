{
 "cells": [
  {
   "cell_type": "code",
   "execution_count": 3,
   "id": "a7917557",
   "metadata": {},
   "outputs": [],
   "source": [
    "import numpy as np\n",
    "import pandas as pd\n",
    "import seaborn as sns\n",
    "import matplotlib as plt\n",
    "\n",
    "from sklearn.model_selection import train_test_split\n",
    "from sklearn.preprocessing import LabelEncoder\n",
    "\n",
    "from sklearn.neighbors import KNeighborsClassifier"
   ]
  },
  {
   "cell_type": "code",
   "execution_count": 4,
   "id": "976e59f2",
   "metadata": {},
   "outputs": [],
   "source": [
    "df=pd.read_csv('./train.csv')"
   ]
  },
  {
   "cell_type": "code",
   "execution_count": 5,
   "id": "ff1ec65c",
   "metadata": {},
   "outputs": [
    {
     "data": {
      "text/html": [
       "<div>\n",
       "<style scoped>\n",
       "    .dataframe tbody tr th:only-of-type {\n",
       "        vertical-align: middle;\n",
       "    }\n",
       "\n",
       "    .dataframe tbody tr th {\n",
       "        vertical-align: top;\n",
       "    }\n",
       "\n",
       "    .dataframe thead th {\n",
       "        text-align: right;\n",
       "    }\n",
       "</style>\n",
       "<table border=\"1\" class=\"dataframe\">\n",
       "  <thead>\n",
       "    <tr style=\"text-align: right;\">\n",
       "      <th></th>\n",
       "      <th>id</th>\n",
       "      <th>log_price</th>\n",
       "      <th>property_type</th>\n",
       "      <th>room_type</th>\n",
       "      <th>amenities</th>\n",
       "      <th>accommodates</th>\n",
       "      <th>bathrooms</th>\n",
       "      <th>bed_type</th>\n",
       "      <th>cancellation_policy</th>\n",
       "      <th>cleaning_fee</th>\n",
       "      <th>...</th>\n",
       "      <th>latitude</th>\n",
       "      <th>longitude</th>\n",
       "      <th>name</th>\n",
       "      <th>neighbourhood</th>\n",
       "      <th>number_of_reviews</th>\n",
       "      <th>review_scores_rating</th>\n",
       "      <th>thumbnail_url</th>\n",
       "      <th>zipcode</th>\n",
       "      <th>bedrooms</th>\n",
       "      <th>beds</th>\n",
       "    </tr>\n",
       "  </thead>\n",
       "  <tbody>\n",
       "    <tr>\n",
       "      <th>0</th>\n",
       "      <td>6901257</td>\n",
       "      <td>5.010635</td>\n",
       "      <td>Apartment</td>\n",
       "      <td>Entire home/apt</td>\n",
       "      <td>{\"Wireless Internet\",\"Air conditioning\",Kitche...</td>\n",
       "      <td>3</td>\n",
       "      <td>1.0</td>\n",
       "      <td>Real Bed</td>\n",
       "      <td>strict</td>\n",
       "      <td>True</td>\n",
       "      <td>...</td>\n",
       "      <td>40.696524</td>\n",
       "      <td>-73.991617</td>\n",
       "      <td>Beautiful brownstone 1-bedroom</td>\n",
       "      <td>Brooklyn Heights</td>\n",
       "      <td>2</td>\n",
       "      <td>100.0</td>\n",
       "      <td>https://a0.muscache.com/im/pictures/6d7cbbf7-c...</td>\n",
       "      <td>11201</td>\n",
       "      <td>1.0</td>\n",
       "      <td>1.0</td>\n",
       "    </tr>\n",
       "    <tr>\n",
       "      <th>1</th>\n",
       "      <td>6304928</td>\n",
       "      <td>5.129899</td>\n",
       "      <td>Apartment</td>\n",
       "      <td>Entire home/apt</td>\n",
       "      <td>{\"Wireless Internet\",\"Air conditioning\",Kitche...</td>\n",
       "      <td>7</td>\n",
       "      <td>1.0</td>\n",
       "      <td>Real Bed</td>\n",
       "      <td>strict</td>\n",
       "      <td>True</td>\n",
       "      <td>...</td>\n",
       "      <td>40.766115</td>\n",
       "      <td>-73.989040</td>\n",
       "      <td>Superb 3BR Apt Located Near Times Square</td>\n",
       "      <td>Hell's Kitchen</td>\n",
       "      <td>6</td>\n",
       "      <td>93.0</td>\n",
       "      <td>https://a0.muscache.com/im/pictures/348a55fe-4...</td>\n",
       "      <td>10019</td>\n",
       "      <td>3.0</td>\n",
       "      <td>3.0</td>\n",
       "    </tr>\n",
       "    <tr>\n",
       "      <th>2</th>\n",
       "      <td>7919400</td>\n",
       "      <td>4.976734</td>\n",
       "      <td>Apartment</td>\n",
       "      <td>Entire home/apt</td>\n",
       "      <td>{TV,\"Cable TV\",\"Wireless Internet\",\"Air condit...</td>\n",
       "      <td>5</td>\n",
       "      <td>1.0</td>\n",
       "      <td>Real Bed</td>\n",
       "      <td>moderate</td>\n",
       "      <td>True</td>\n",
       "      <td>...</td>\n",
       "      <td>40.808110</td>\n",
       "      <td>-73.943756</td>\n",
       "      <td>The Garden Oasis</td>\n",
       "      <td>Harlem</td>\n",
       "      <td>10</td>\n",
       "      <td>92.0</td>\n",
       "      <td>https://a0.muscache.com/im/pictures/6fae5362-9...</td>\n",
       "      <td>10027</td>\n",
       "      <td>1.0</td>\n",
       "      <td>3.0</td>\n",
       "    </tr>\n",
       "    <tr>\n",
       "      <th>3</th>\n",
       "      <td>13418779</td>\n",
       "      <td>6.620073</td>\n",
       "      <td>House</td>\n",
       "      <td>Entire home/apt</td>\n",
       "      <td>{TV,\"Cable TV\",Internet,\"Wireless Internet\",Ki...</td>\n",
       "      <td>4</td>\n",
       "      <td>1.0</td>\n",
       "      <td>Real Bed</td>\n",
       "      <td>flexible</td>\n",
       "      <td>True</td>\n",
       "      <td>...</td>\n",
       "      <td>37.772004</td>\n",
       "      <td>-122.431619</td>\n",
       "      <td>Beautiful Flat in the Heart of SF!</td>\n",
       "      <td>Lower Haight</td>\n",
       "      <td>0</td>\n",
       "      <td>NaN</td>\n",
       "      <td>https://a0.muscache.com/im/pictures/72208dad-9...</td>\n",
       "      <td>94117.0</td>\n",
       "      <td>2.0</td>\n",
       "      <td>2.0</td>\n",
       "    </tr>\n",
       "    <tr>\n",
       "      <th>4</th>\n",
       "      <td>3808709</td>\n",
       "      <td>4.744932</td>\n",
       "      <td>Apartment</td>\n",
       "      <td>Entire home/apt</td>\n",
       "      <td>{TV,Internet,\"Wireless Internet\",\"Air conditio...</td>\n",
       "      <td>2</td>\n",
       "      <td>1.0</td>\n",
       "      <td>Real Bed</td>\n",
       "      <td>moderate</td>\n",
       "      <td>True</td>\n",
       "      <td>...</td>\n",
       "      <td>38.925627</td>\n",
       "      <td>-77.034596</td>\n",
       "      <td>Great studio in midtown DC</td>\n",
       "      <td>Columbia Heights</td>\n",
       "      <td>4</td>\n",
       "      <td>40.0</td>\n",
       "      <td>NaN</td>\n",
       "      <td>20009</td>\n",
       "      <td>0.0</td>\n",
       "      <td>1.0</td>\n",
       "    </tr>\n",
       "    <tr>\n",
       "      <th>...</th>\n",
       "      <td>...</td>\n",
       "      <td>...</td>\n",
       "      <td>...</td>\n",
       "      <td>...</td>\n",
       "      <td>...</td>\n",
       "      <td>...</td>\n",
       "      <td>...</td>\n",
       "      <td>...</td>\n",
       "      <td>...</td>\n",
       "      <td>...</td>\n",
       "      <td>...</td>\n",
       "      <td>...</td>\n",
       "      <td>...</td>\n",
       "      <td>...</td>\n",
       "      <td>...</td>\n",
       "      <td>...</td>\n",
       "      <td>...</td>\n",
       "      <td>...</td>\n",
       "      <td>...</td>\n",
       "      <td>...</td>\n",
       "      <td>...</td>\n",
       "    </tr>\n",
       "    <tr>\n",
       "      <th>74106</th>\n",
       "      <td>14549287</td>\n",
       "      <td>4.605170</td>\n",
       "      <td>Apartment</td>\n",
       "      <td>Private room</td>\n",
       "      <td>{}</td>\n",
       "      <td>1</td>\n",
       "      <td>1.0</td>\n",
       "      <td>Real Bed</td>\n",
       "      <td>flexible</td>\n",
       "      <td>False</td>\n",
       "      <td>...</td>\n",
       "      <td>40.709025</td>\n",
       "      <td>-73.939405</td>\n",
       "      <td>one room bushwick</td>\n",
       "      <td>Williamsburg</td>\n",
       "      <td>0</td>\n",
       "      <td>NaN</td>\n",
       "      <td>https://a0.muscache.com/im/pictures/55162426/6...</td>\n",
       "      <td>11206.0</td>\n",
       "      <td>1.0</td>\n",
       "      <td>1.0</td>\n",
       "    </tr>\n",
       "    <tr>\n",
       "      <th>74107</th>\n",
       "      <td>13281809</td>\n",
       "      <td>5.043425</td>\n",
       "      <td>Apartment</td>\n",
       "      <td>Entire home/apt</td>\n",
       "      <td>{TV,\"Cable TV\",Internet,\"Wireless Internet\",Ki...</td>\n",
       "      <td>4</td>\n",
       "      <td>2.0</td>\n",
       "      <td>Real Bed</td>\n",
       "      <td>moderate</td>\n",
       "      <td>True</td>\n",
       "      <td>...</td>\n",
       "      <td>33.871549</td>\n",
       "      <td>-118.396053</td>\n",
       "      <td>Spacious Hermosa 2 BR on PCH</td>\n",
       "      <td>Hermosa Beach</td>\n",
       "      <td>16</td>\n",
       "      <td>93.0</td>\n",
       "      <td>https://a0.muscache.com/im/pictures/2b86560b-a...</td>\n",
       "      <td>90254</td>\n",
       "      <td>2.0</td>\n",
       "      <td>4.0</td>\n",
       "    </tr>\n",
       "    <tr>\n",
       "      <th>74108</th>\n",
       "      <td>18688039</td>\n",
       "      <td>5.220356</td>\n",
       "      <td>Apartment</td>\n",
       "      <td>Entire home/apt</td>\n",
       "      <td>{TV,Internet,\"Wireless Internet\",\"Air conditio...</td>\n",
       "      <td>5</td>\n",
       "      <td>1.0</td>\n",
       "      <td>Real Bed</td>\n",
       "      <td>moderate</td>\n",
       "      <td>True</td>\n",
       "      <td>...</td>\n",
       "      <td>40.706749</td>\n",
       "      <td>-73.942377</td>\n",
       "      <td>Modern 2 Bedroom Apartment in Williamsburg</td>\n",
       "      <td>Williamsburg</td>\n",
       "      <td>43</td>\n",
       "      <td>94.0</td>\n",
       "      <td>https://a0.muscache.com/im/pictures/7fbe448c-5...</td>\n",
       "      <td>11206.0</td>\n",
       "      <td>2.0</td>\n",
       "      <td>2.0</td>\n",
       "    </tr>\n",
       "    <tr>\n",
       "      <th>74109</th>\n",
       "      <td>17045948</td>\n",
       "      <td>5.273000</td>\n",
       "      <td>Apartment</td>\n",
       "      <td>Entire home/apt</td>\n",
       "      <td>{TV,\"Wireless Internet\",\"Air conditioning\",Kit...</td>\n",
       "      <td>2</td>\n",
       "      <td>1.0</td>\n",
       "      <td>Real Bed</td>\n",
       "      <td>strict</td>\n",
       "      <td>True</td>\n",
       "      <td>...</td>\n",
       "      <td>40.738535</td>\n",
       "      <td>-74.000157</td>\n",
       "      <td>Designer's Apartment in HEART of NYC</td>\n",
       "      <td>West Village</td>\n",
       "      <td>0</td>\n",
       "      <td>NaN</td>\n",
       "      <td>https://a0.muscache.com/im/pictures/b3971b63-0...</td>\n",
       "      <td>10011</td>\n",
       "      <td>0.0</td>\n",
       "      <td>2.0</td>\n",
       "    </tr>\n",
       "    <tr>\n",
       "      <th>74110</th>\n",
       "      <td>3534845</td>\n",
       "      <td>4.852030</td>\n",
       "      <td>Boat</td>\n",
       "      <td>Entire home/apt</td>\n",
       "      <td>{TV,Internet,\"Wireless Internet\",Kitchen,\"Free...</td>\n",
       "      <td>4</td>\n",
       "      <td>1.0</td>\n",
       "      <td>Real Bed</td>\n",
       "      <td>moderate</td>\n",
       "      <td>False</td>\n",
       "      <td>...</td>\n",
       "      <td>33.761096</td>\n",
       "      <td>-118.192409</td>\n",
       "      <td>Cozy Boat at Shoreline Village</td>\n",
       "      <td>Long Beach</td>\n",
       "      <td>205</td>\n",
       "      <td>96.0</td>\n",
       "      <td>https://a0.muscache.com/im/pictures/22968537/d...</td>\n",
       "      <td>90802</td>\n",
       "      <td>1.0</td>\n",
       "      <td>2.0</td>\n",
       "    </tr>\n",
       "  </tbody>\n",
       "</table>\n",
       "<p>74111 rows × 29 columns</p>\n",
       "</div>"
      ],
      "text/plain": [
       "             id  log_price property_type        room_type  \\\n",
       "0       6901257   5.010635     Apartment  Entire home/apt   \n",
       "1       6304928   5.129899     Apartment  Entire home/apt   \n",
       "2       7919400   4.976734     Apartment  Entire home/apt   \n",
       "3      13418779   6.620073         House  Entire home/apt   \n",
       "4       3808709   4.744932     Apartment  Entire home/apt   \n",
       "...         ...        ...           ...              ...   \n",
       "74106  14549287   4.605170     Apartment     Private room   \n",
       "74107  13281809   5.043425     Apartment  Entire home/apt   \n",
       "74108  18688039   5.220356     Apartment  Entire home/apt   \n",
       "74109  17045948   5.273000     Apartment  Entire home/apt   \n",
       "74110   3534845   4.852030          Boat  Entire home/apt   \n",
       "\n",
       "                                               amenities  accommodates  \\\n",
       "0      {\"Wireless Internet\",\"Air conditioning\",Kitche...             3   \n",
       "1      {\"Wireless Internet\",\"Air conditioning\",Kitche...             7   \n",
       "2      {TV,\"Cable TV\",\"Wireless Internet\",\"Air condit...             5   \n",
       "3      {TV,\"Cable TV\",Internet,\"Wireless Internet\",Ki...             4   \n",
       "4      {TV,Internet,\"Wireless Internet\",\"Air conditio...             2   \n",
       "...                                                  ...           ...   \n",
       "74106                                                 {}             1   \n",
       "74107  {TV,\"Cable TV\",Internet,\"Wireless Internet\",Ki...             4   \n",
       "74108  {TV,Internet,\"Wireless Internet\",\"Air conditio...             5   \n",
       "74109  {TV,\"Wireless Internet\",\"Air conditioning\",Kit...             2   \n",
       "74110  {TV,Internet,\"Wireless Internet\",Kitchen,\"Free...             4   \n",
       "\n",
       "       bathrooms  bed_type cancellation_policy  cleaning_fee  ...   latitude  \\\n",
       "0            1.0  Real Bed              strict          True  ...  40.696524   \n",
       "1            1.0  Real Bed              strict          True  ...  40.766115   \n",
       "2            1.0  Real Bed            moderate          True  ...  40.808110   \n",
       "3            1.0  Real Bed            flexible          True  ...  37.772004   \n",
       "4            1.0  Real Bed            moderate          True  ...  38.925627   \n",
       "...          ...       ...                 ...           ...  ...        ...   \n",
       "74106        1.0  Real Bed            flexible         False  ...  40.709025   \n",
       "74107        2.0  Real Bed            moderate          True  ...  33.871549   \n",
       "74108        1.0  Real Bed            moderate          True  ...  40.706749   \n",
       "74109        1.0  Real Bed              strict          True  ...  40.738535   \n",
       "74110        1.0  Real Bed            moderate         False  ...  33.761096   \n",
       "\n",
       "        longitude                                        name  \\\n",
       "0      -73.991617              Beautiful brownstone 1-bedroom   \n",
       "1      -73.989040    Superb 3BR Apt Located Near Times Square   \n",
       "2      -73.943756                            The Garden Oasis   \n",
       "3     -122.431619          Beautiful Flat in the Heart of SF!   \n",
       "4      -77.034596                  Great studio in midtown DC   \n",
       "...           ...                                         ...   \n",
       "74106  -73.939405                           one room bushwick   \n",
       "74107 -118.396053                Spacious Hermosa 2 BR on PCH   \n",
       "74108  -73.942377  Modern 2 Bedroom Apartment in Williamsburg   \n",
       "74109  -74.000157        Designer's Apartment in HEART of NYC   \n",
       "74110 -118.192409              Cozy Boat at Shoreline Village   \n",
       "\n",
       "          neighbourhood number_of_reviews review_scores_rating  \\\n",
       "0      Brooklyn Heights                 2                100.0   \n",
       "1        Hell's Kitchen                 6                 93.0   \n",
       "2                Harlem                10                 92.0   \n",
       "3          Lower Haight                 0                  NaN   \n",
       "4      Columbia Heights                 4                 40.0   \n",
       "...                 ...               ...                  ...   \n",
       "74106      Williamsburg                 0                  NaN   \n",
       "74107     Hermosa Beach                16                 93.0   \n",
       "74108      Williamsburg                43                 94.0   \n",
       "74109      West Village                 0                  NaN   \n",
       "74110        Long Beach               205                 96.0   \n",
       "\n",
       "                                           thumbnail_url  zipcode bedrooms  \\\n",
       "0      https://a0.muscache.com/im/pictures/6d7cbbf7-c...    11201      1.0   \n",
       "1      https://a0.muscache.com/im/pictures/348a55fe-4...    10019      3.0   \n",
       "2      https://a0.muscache.com/im/pictures/6fae5362-9...    10027      1.0   \n",
       "3      https://a0.muscache.com/im/pictures/72208dad-9...  94117.0      2.0   \n",
       "4                                                    NaN    20009      0.0   \n",
       "...                                                  ...      ...      ...   \n",
       "74106  https://a0.muscache.com/im/pictures/55162426/6...  11206.0      1.0   \n",
       "74107  https://a0.muscache.com/im/pictures/2b86560b-a...    90254      2.0   \n",
       "74108  https://a0.muscache.com/im/pictures/7fbe448c-5...  11206.0      2.0   \n",
       "74109  https://a0.muscache.com/im/pictures/b3971b63-0...    10011      0.0   \n",
       "74110  https://a0.muscache.com/im/pictures/22968537/d...    90802      1.0   \n",
       "\n",
       "       beds  \n",
       "0       1.0  \n",
       "1       3.0  \n",
       "2       3.0  \n",
       "3       2.0  \n",
       "4       1.0  \n",
       "...     ...  \n",
       "74106   1.0  \n",
       "74107   4.0  \n",
       "74108   2.0  \n",
       "74109   2.0  \n",
       "74110   2.0  \n",
       "\n",
       "[74111 rows x 29 columns]"
      ]
     },
     "execution_count": 5,
     "metadata": {},
     "output_type": "execute_result"
    }
   ],
   "source": [
    "df"
   ]
  },
  {
   "cell_type": "code",
   "execution_count": 6,
   "id": "ae1d7dc6",
   "metadata": {},
   "outputs": [],
   "source": [
    "# 실제로 train test split 할 특성\n",
    "X=pd.DataFrame()"
   ]
  },
  {
   "cell_type": "code",
   "execution_count": 7,
   "id": "f132bf9a",
   "metadata": {},
   "outputs": [],
   "source": [
    "columns=['log_price', 'property_type', 'room_type', 'amenities', 'accommodates',\n",
    "       'bathrooms', 'bed_type', 'cancellation_policy', 'city',\n",
    "       'latitude', 'longitude', 'neighbourhood', 'bedrooms', 'beds']"
   ]
  },
  {
   "cell_type": "code",
   "execution_count": 8,
   "id": "f830fa52",
   "metadata": {},
   "outputs": [],
   "source": [
    "X=df[columns].copy()"
   ]
  },
  {
   "cell_type": "code",
   "execution_count": 9,
   "id": "0ca1ed94",
   "metadata": {},
   "outputs": [
    {
     "data": {
      "text/plain": [
       "(74111, 14)"
      ]
     },
     "execution_count": 9,
     "metadata": {},
     "output_type": "execute_result"
    }
   ],
   "source": [
    "X.shape"
   ]
  },
  {
   "cell_type": "markdown",
   "id": "2681075f",
   "metadata": {},
   "source": [
    "# GroupBy(City, Neighbourhood) 가격 평균"
   ]
  },
  {
   "cell_type": "markdown",
   "id": "ea701118",
   "metadata": {},
   "source": [
    "### null값 처리\n",
    "- KNeighborsClassifier 사용"
   ]
  },
  {
   "cell_type": "code",
   "execution_count": 10,
   "id": "b97d3178",
   "metadata": {},
   "outputs": [],
   "source": [
    "test_df=pd.DataFrame()\n",
    "test_df=df[['longitude', 'latitude', 'neighbourhood']].copy()\n",
    "\n",
    "test_df_not=test_df[test_df['neighbourhood'].notnull()]\n",
    "test_df_null=test_df[test_df['neighbourhood'].isnull()]"
   ]
  },
  {
   "cell_type": "code",
   "execution_count": 11,
   "id": "5ab57d11",
   "metadata": {},
   "outputs": [],
   "source": [
    "X_t=test_df_not.drop(columns='neighbourhood')\n",
    "y_t=test_df_not.iloc[:,-1]"
   ]
  },
  {
   "cell_type": "code",
   "execution_count": 12,
   "id": "aeeb0f07",
   "metadata": {},
   "outputs": [],
   "source": [
    "label_enc=LabelEncoder()\n",
    "label_enc.fit(y_t)\n",
    "y_encoded=label_enc.transform(y_t)"
   ]
  },
  {
   "cell_type": "code",
   "execution_count": 13,
   "id": "a9d0cce6",
   "metadata": {},
   "outputs": [],
   "source": [
    "X_train, X_test, y_train, y_test = train_test_split(X_t, y_encoded, test_size=0.2, random_state=42)"
   ]
  },
  {
   "cell_type": "code",
   "execution_count": 14,
   "id": "ed48eaae",
   "metadata": {},
   "outputs": [
    {
     "name": "stderr",
     "output_type": "stream",
     "text": [
      "C:\\Users\\YOOYOUNG\\anaconda3\\lib\\site-packages\\sklearn\\neighbors\\_classification.py:228: FutureWarning: Unlike other reduction functions (e.g. `skew`, `kurtosis`), the default behavior of `mode` typically preserves the axis it acts along. In SciPy 1.11.0, this behavior will change: the default value of `keepdims` will become False, the `axis` over which the statistic is taken will be eliminated, and the value None will no longer be accepted. Set `keepdims` to True or False to avoid this warning.\n",
      "  mode, _ = stats.mode(_y[neigh_ind, k], axis=1)\n"
     ]
    },
    {
     "data": {
      "text/plain": [
       "0.9561273051754908"
      ]
     },
     "execution_count": 14,
     "metadata": {},
     "output_type": "execute_result"
    }
   ],
   "source": [
    "kne_clf = KNeighborsClassifier(n_neighbors=5)\n",
    "kne_clf.fit(X_train, y_train)\n",
    "pred=kne_clf.predict(X_test)\n",
    "\n",
    "correct=(pred==y_test).sum()\n",
    "\n",
    "correct/len(y_test)"
   ]
  },
  {
   "cell_type": "code",
   "execution_count": 15,
   "id": "4e4da6e8",
   "metadata": {},
   "outputs": [
    {
     "name": "stderr",
     "output_type": "stream",
     "text": [
      "C:\\Users\\YOOYOUNG\\anaconda3\\lib\\site-packages\\sklearn\\neighbors\\_classification.py:228: FutureWarning: Unlike other reduction functions (e.g. `skew`, `kurtosis`), the default behavior of `mode` typically preserves the axis it acts along. In SciPy 1.11.0, this behavior will change: the default value of `keepdims` will become False, the `axis` over which the statistic is taken will be eliminated, and the value None will no longer be accepted. Set `keepdims` to True or False to avoid this warning.\n",
      "  mode, _ = stats.mode(_y[neigh_ind, k], axis=1)\n",
      "C:\\Users\\YOOYOUNG\\AppData\\Local\\Temp\\ipykernel_13252\\2726357634.py:1: SettingWithCopyWarning: \n",
      "A value is trying to be set on a copy of a slice from a DataFrame.\n",
      "Try using .loc[row_indexer,col_indexer] = value instead\n",
      "\n",
      "See the caveats in the documentation: https://pandas.pydata.org/pandas-docs/stable/user_guide/indexing.html#returning-a-view-versus-a-copy\n",
      "  test_df_null['neighbourhood']=kne_clf.predict(test_df_null.iloc[:,:2])\n"
     ]
    }
   ],
   "source": [
    "test_df_null['neighbourhood']=kne_clf.predict(test_df_null.iloc[:,:2])"
   ]
  },
  {
   "cell_type": "code",
   "execution_count": 16,
   "id": "d838378d",
   "metadata": {},
   "outputs": [
    {
     "name": "stderr",
     "output_type": "stream",
     "text": [
      "C:\\Users\\YOOYOUNG\\AppData\\Local\\Temp\\ipykernel_13252\\2432593095.py:1: SettingWithCopyWarning: \n",
      "A value is trying to be set on a copy of a slice from a DataFrame.\n",
      "Try using .loc[row_indexer,col_indexer] = value instead\n",
      "\n",
      "See the caveats in the documentation: https://pandas.pydata.org/pandas-docs/stable/user_guide/indexing.html#returning-a-view-versus-a-copy\n",
      "  test_df_null['neighbourhood']=label_enc.inverse_transform(test_df_null['neighbourhood'])\n"
     ]
    }
   ],
   "source": [
    "test_df_null['neighbourhood']=label_enc.inverse_transform(test_df_null['neighbourhood'])"
   ]
  },
  {
   "cell_type": "code",
   "execution_count": 17,
   "id": "b9f800d7",
   "metadata": {},
   "outputs": [],
   "source": [
    "test_df_filled=pd.concat([test_df_not, test_df_null], axis=0)"
   ]
  },
  {
   "cell_type": "code",
   "execution_count": 18,
   "id": "fd17b887",
   "metadata": {},
   "outputs": [],
   "source": [
    "X['neighbourhood']=test_df_filled['neighbourhood'].copy()"
   ]
  },
  {
   "cell_type": "markdown",
   "id": "23787e37",
   "metadata": {},
   "source": [
    "### 데이터 처리"
   ]
  },
  {
   "cell_type": "code",
   "execution_count": 19,
   "id": "b050e6a0",
   "metadata": {},
   "outputs": [],
   "source": [
    "test_df_filled['log_price']=df['log_price'].copy()"
   ]
  },
  {
   "cell_type": "code",
   "execution_count": 20,
   "id": "ad1107fd",
   "metadata": {},
   "outputs": [],
   "source": [
    "new = pd.DataFrame(df.groupby(['city', 'neighbourhood']).mean()['log_price'])"
   ]
  },
  {
   "cell_type": "code",
   "execution_count": 21,
   "id": "efaa3509",
   "metadata": {},
   "outputs": [],
   "source": [
    "new_idx = new.reset_index()"
   ]
  },
  {
   "cell_type": "code",
   "execution_count": 22,
   "id": "3cd73fac",
   "metadata": {},
   "outputs": [],
   "source": [
    "all_df = pd.merge(left=new_idx, right=X, how='left',\n",
    "                  on=['city','neighbourhood'], sort=False)"
   ]
  },
  {
   "cell_type": "code",
   "execution_count": 23,
   "id": "761c279f",
   "metadata": {},
   "outputs": [],
   "source": [
    "X=all_df.copy()"
   ]
  },
  {
   "cell_type": "code",
   "execution_count": 24,
   "id": "22755654",
   "metadata": {},
   "outputs": [],
   "source": [
    "X.rename(columns={'log_price_x':'grouped_mean_price', 'log_price_y':'log_price'}, inplace=True)"
   ]
  },
  {
   "cell_type": "markdown",
   "id": "1250d4f2",
   "metadata": {},
   "source": [
    "# GroupBy(City, Neighbourhood) count"
   ]
  },
  {
   "cell_type": "code",
   "execution_count": 25,
   "id": "b96ff9da",
   "metadata": {},
   "outputs": [],
   "source": [
    "new = pd.DataFrame(df.groupby(['city', 'neighbourhood']).count()['id'])"
   ]
  },
  {
   "cell_type": "code",
   "execution_count": 26,
   "id": "12e6cf64",
   "metadata": {},
   "outputs": [],
   "source": [
    "new_idx = new.reset_index()"
   ]
  },
  {
   "cell_type": "code",
   "execution_count": 27,
   "id": "4e921bff",
   "metadata": {},
   "outputs": [],
   "source": [
    "all_df = pd.merge(left=new_idx, right=X, how='left',\n",
    "                  on=['city','neighbourhood'], sort=False)"
   ]
  },
  {
   "cell_type": "code",
   "execution_count": 28,
   "id": "94d26985",
   "metadata": {},
   "outputs": [],
   "source": [
    "X=all_df.copy()"
   ]
  },
  {
   "cell_type": "code",
   "execution_count": 29,
   "id": "7ebe2ce8",
   "metadata": {},
   "outputs": [],
   "source": [
    "X.rename(columns={'id':'grouped_count'}, inplace=True)"
   ]
  },
  {
   "cell_type": "markdown",
   "id": "43178f1b",
   "metadata": {},
   "source": [
    "# X property_type...groupby해서 평균가격"
   ]
  },
  {
   "cell_type": "code",
   "execution_count": 30,
   "id": "cff36f60",
   "metadata": {},
   "outputs": [],
   "source": [
    "property_mean_price=pd.DataFrame(df.groupby('property_type').mean()['log_price'])"
   ]
  },
  {
   "cell_type": "code",
   "execution_count": 31,
   "id": "c77408cc",
   "metadata": {},
   "outputs": [],
   "source": [
    "new = pd.DataFrame(df.groupby('property_type').mean()['log_price'])"
   ]
  },
  {
   "cell_type": "code",
   "execution_count": 32,
   "id": "269ec127",
   "metadata": {},
   "outputs": [],
   "source": [
    "new_idx = property_mean_price.reset_index()"
   ]
  },
  {
   "cell_type": "code",
   "execution_count": 33,
   "id": "c3f19267",
   "metadata": {},
   "outputs": [],
   "source": [
    "all_df = pd.merge(left=new_idx, right=X, how='left',\n",
    "                  on=['property_type'], sort=False)"
   ]
  },
  {
   "cell_type": "code",
   "execution_count": 34,
   "id": "f400b6b9",
   "metadata": {},
   "outputs": [],
   "source": [
    "X=all_df.copy()"
   ]
  },
  {
   "cell_type": "code",
   "execution_count": 35,
   "id": "ad4b3b22",
   "metadata": {},
   "outputs": [],
   "source": [
    "X.rename(columns={'log_price_x':'property_mean_price', 'log_price_y':'log_price'}, inplace=True)"
   ]
  },
  {
   "cell_type": "markdown",
   "id": "a79c1582",
   "metadata": {},
   "source": [
    "# room_type, bed_type, cancel -> get_dummies"
   ]
  },
  {
   "cell_type": "code",
   "execution_count": 36,
   "id": "ba5a5a6a",
   "metadata": {},
   "outputs": [
    {
     "data": {
      "text/plain": [
       "(3, 5, 5)"
      ]
     },
     "execution_count": 36,
     "metadata": {},
     "output_type": "execute_result"
    }
   ],
   "source": [
    "df['room_type'].nunique(), df['bed_type'].nunique(), df['cancellation_policy'].nunique()"
   ]
  },
  {
   "cell_type": "code",
   "execution_count": 37,
   "id": "ea7b0e65",
   "metadata": {},
   "outputs": [],
   "source": [
    "X_merged=pd.concat([X, pd.get_dummies(X[['room_type', 'bed_type', 'cancellation_policy']])], axis=1)"
   ]
  },
  {
   "cell_type": "code",
   "execution_count": 38,
   "id": "0382a74d",
   "metadata": {},
   "outputs": [],
   "source": [
    "X_merged.drop(columns=['room_type', 'bed_type', 'cancellation_policy'], inplace=True)"
   ]
  },
  {
   "cell_type": "code",
   "execution_count": 39,
   "id": "9fe2b55c",
   "metadata": {},
   "outputs": [],
   "source": [
    "X=X_merged.copy()"
   ]
  },
  {
   "cell_type": "markdown",
   "id": "73a19201",
   "metadata": {},
   "source": [
    "# amenities 개수 추가하기"
   ]
  },
  {
   "cell_type": "code",
   "execution_count": 40,
   "id": "3d4c5794",
   "metadata": {},
   "outputs": [],
   "source": [
    "X['amenities']=list(map(lambda x:len(x.split(',')), X['amenities']))"
   ]
  },
  {
   "cell_type": "markdown",
   "id": "ce6e9e75",
   "metadata": {},
   "source": [
    "# property_type, room_type....침대의 개수(평균개수)"
   ]
  },
  {
   "cell_type": "code",
   "execution_count": 41,
   "id": "04630f56",
   "metadata": {},
   "outputs": [],
   "source": [
    "from sklearn.base import BaseEstimator, TransformerMixin"
   ]
  },
  {
   "cell_type": "code",
   "execution_count": 42,
   "id": "7f4fe5c2",
   "metadata": {},
   "outputs": [],
   "source": [
    "class bedsImputer(BaseEstimator, TransformerMixin):\n",
    "    def fit(self, X, y=None):\n",
    "        X['room_type']=df['room_type'].copy()\n",
    "        self.avg_beds_by_room_type=X.groupby('room_type').mean()['beds']\n",
    "        X.drop('room_type', inplace=True, axis=1)\n",
    "        return self        \n",
    "    \n",
    "    def transform(self, X, y=None):\n",
    "        X=X.copy()\n",
    "        X['room_type']=df['room_type'].copy()\n",
    "        X_null_beds = X[X['beds'].isnull()].index\n",
    "        for idx in X_null_beds:\n",
    "            X.at[idx, 'beds'] = self.avg_beds_by_room_type[X.at[idx, 'room_type']]\n",
    "        X.drop('room_type', inplace=True, axis=1)\n",
    "        return X\n",
    "    \n",
    "    def get_feature_names_out(self, feature_names_in):\n",
    "        return feature_names_in"
   ]
  },
  {
   "cell_type": "markdown",
   "id": "6d050d4a",
   "metadata": {},
   "source": [
    "# property_type, room_type....침실의 개수(평균개수)"
   ]
  },
  {
   "cell_type": "code",
   "execution_count": 43,
   "id": "13f110ce",
   "metadata": {},
   "outputs": [],
   "source": [
    "class bedroomsImputer(BaseEstimator, TransformerMixin):        \n",
    "    def fit(self, X, y=None):\n",
    "        \n",
    "        X['room_type']=df['room_type'].copy()\n",
    "        self.avg_bedrooms_by_room_type=X.groupby('room_type').mean()['bedrooms']\n",
    "        X.drop('room_type', inplace=True, axis=1)\n",
    "        return self\n",
    "    \n",
    "    def transform(self, X, y=None):\n",
    "        X=X.copy()\n",
    "        X['room_type']=df['room_type'].copy()\n",
    "        X_null_bedrooms = X[X['bedrooms'].isnull()].index\n",
    "        for idx in X_null_bedrooms:\n",
    "            X.at[idx, 'bedrooms'] = self.avg_bedrooms_by_room_type[X.at[idx, 'room_type']]\n",
    "        X.drop('room_type', inplace=True, axis=1)\n",
    "        return X\n",
    "    \n",
    "    def get_feature_names_out(self, feature_names_in):\n",
    "        return feature_names_in"
   ]
  },
  {
   "cell_type": "markdown",
   "id": "586389ac",
   "metadata": {},
   "source": [
    "# property_type, room_type....화장실의 개수(평균개수)"
   ]
  },
  {
   "cell_type": "code",
   "execution_count": 44,
   "id": "0766e629",
   "metadata": {},
   "outputs": [],
   "source": [
    "class bathroomsImputer(BaseEstimator, TransformerMixin):\n",
    "    def fit(self, X, y=None):\n",
    "        X['room_type']=df['room_type'].copy()\n",
    "        self.avg_bathrooms_by_room_type=X.groupby('room_type').mean()['bathrooms']\n",
    "        X.drop('room_type', inplace=True, axis=1)\n",
    "        return self\n",
    "    \n",
    "    def transform(self, X, y=None):\n",
    "        X=X.copy()\n",
    "        X['room_type']=df.loc[:,'room_type']\n",
    "        X_null_bathrooms = X[X['bathrooms'].isnull()].index\n",
    "        for idx in X_null_bathrooms:\n",
    "            X.at[idx, 'bathrooms'] = self.avg_bathrooms_by_room_type[X.at[idx, 'room_type']]\n",
    "        X.drop('room_type', inplace=True, axis=1)        \n",
    "        return X\n",
    "    \n",
    "    def get_feature_names_out(self, feature_names_in):\n",
    "        return feature_names_in"
   ]
  },
  {
   "cell_type": "code",
   "execution_count": 45,
   "id": "c3de2d47",
   "metadata": {},
   "outputs": [],
   "source": [
    "class Dropcolumns(BaseEstimator, TransformerMixin):\n",
    "    def fit(self, X, y=None):\n",
    "        return self\n",
    "    \n",
    "    def transform(self, X, y=None):\n",
    "        X=X.copy()\n",
    "        X.drop(columns=['longitude', 'latitude', 'property_type','city', 'neighbourhood'], inplace=True, axis=1)\n",
    "        return X\n",
    "    \n",
    "#     def get_feature_names_out(self, feature_names_in):\n",
    "#         return feature_names_in"
   ]
  },
  {
   "cell_type": "code",
   "execution_count": 80,
   "id": "105b8830",
   "metadata": {},
   "outputs": [
    {
     "data": {
      "text/plain": [
       "Index(['property_type', 'property_mean_price', 'city', 'neighbourhood',\n",
       "       'grouped_count', 'grouped_mean_price', 'log_price', 'amenities',\n",
       "       'accommodates', 'bathrooms', 'latitude', 'longitude', 'bedrooms',\n",
       "       'beds', 'room_type_Entire home/apt', 'room_type_Private room',\n",
       "       'room_type_Shared room', 'bed_type_Airbed', 'bed_type_Couch',\n",
       "       'bed_type_Futon', 'bed_type_Pull-out Sofa', 'bed_type_Real Bed',\n",
       "       'cancellation_policy_flexible', 'cancellation_policy_moderate',\n",
       "       'cancellation_policy_strict', 'cancellation_policy_super_strict_30',\n",
       "       'cancellation_policy_super_strict_60'],\n",
       "      dtype='object')"
      ]
     },
     "execution_count": 80,
     "metadata": {},
     "output_type": "execute_result"
    }
   ],
   "source": [
    "X.columns"
   ]
  },
  {
   "cell_type": "code",
   "execution_count": 46,
   "id": "e35d6322",
   "metadata": {},
   "outputs": [],
   "source": [
    "y=X['log_price'].copy()\n",
    "# X=X.drop(columns='log_price')"
   ]
  },
  {
   "cell_type": "code",
   "execution_count": 47,
   "id": "5654721f",
   "metadata": {},
   "outputs": [],
   "source": [
    "from sklearn.pipeline import Pipeline\n",
    "from sklearn.preprocessing import StandardScaler\n",
    "from sklearn.compose import ColumnTransformer"
   ]
  },
  {
   "cell_type": "code",
   "execution_count": 48,
   "id": "bf0639a5",
   "metadata": {},
   "outputs": [],
   "source": [
    "pre_pipeline = Pipeline([\n",
    "    ('beds', bedsImputer()),\n",
    "    ('bedrooms', bedroomsImputer()),\n",
    "    ('bathrooms', bathroomsImputer()),\n",
    "    ('dropcolumns', Dropcolumns()),\n",
    "    ('std_scaler', StandardScaler())\n",
    "    ])"
   ]
  },
  {
   "cell_type": "code",
   "execution_count": 49,
   "id": "62037059",
   "metadata": {
    "scrolled": true
   },
   "outputs": [],
   "source": [
    "X_prepared=pre_pipeline.fit_transform(X.drop('log_price', axis=1))"
   ]
  },
  {
   "cell_type": "code",
   "execution_count": 50,
   "id": "464eab81",
   "metadata": {},
   "outputs": [
    {
     "data": {
      "text/plain": [
       "array([[-0.2453456 , -0.31320444, -1.0375202 , ..., -0.88071941,\n",
       "        -0.03890416, -0.01514722],\n",
       "       [-0.2453456 , -0.31320444, -1.0375202 , ...,  1.13543541,\n",
       "        -0.03890416, -0.01514722],\n",
       "       [-0.2453456 , -0.31320444, -1.0375202 , ..., -0.88071941,\n",
       "        -0.03890416, -0.01514722],\n",
       "       ...,\n",
       "       [ 1.71485024, -0.64952798, -1.23212399, ...,  1.13543541,\n",
       "        -0.03890416, -0.01514722],\n",
       "       [ 1.71485024, -0.78232525, -0.39007849, ..., -0.88071941,\n",
       "        -0.03890416, -0.01514722],\n",
       "       [ 1.71485024, -0.72170041,  2.08013271, ..., -0.88071941,\n",
       "        -0.03890416, -0.01514722]])"
      ]
     },
     "execution_count": 50,
     "metadata": {},
     "output_type": "execute_result"
    }
   ],
   "source": [
    "X_prepared"
   ]
  },
  {
   "cell_type": "code",
   "execution_count": 51,
   "id": "1984df85",
   "metadata": {},
   "outputs": [],
   "source": [
    "# X_prepared.drop(columns=['longitude', 'latitude', 'property_type','city', 'neighbourhood'], inplace=True)"
   ]
  },
  {
   "cell_type": "markdown",
   "id": "7a51c59f",
   "metadata": {},
   "source": [
    "# 모델 생성"
   ]
  },
  {
   "cell_type": "code",
   "execution_count": 52,
   "id": "44b1c9f2",
   "metadata": {},
   "outputs": [],
   "source": [
    "from sklearn.metrics import mean_squared_error\n",
    "from sklearn.model_selection import cross_val_score\n",
    "from sklearn.model_selection import train_test_split\n",
    "\n",
    "from sklearn.linear_model import LinearRegression\n",
    "from sklearn.linear_model import SGDRegressor\n",
    "from sklearn.ensemble import RandomForestRegressor"
   ]
  },
  {
   "cell_type": "code",
   "execution_count": 53,
   "id": "2edcdddf",
   "metadata": {},
   "outputs": [
    {
     "data": {
      "text/plain": [
       "((74111, 21), (74111,))"
      ]
     },
     "execution_count": 53,
     "metadata": {},
     "output_type": "execute_result"
    }
   ],
   "source": [
    "X_prepared.shape, y.shape"
   ]
  },
  {
   "cell_type": "code",
   "execution_count": 54,
   "id": "374d5b4a",
   "metadata": {},
   "outputs": [],
   "source": [
    "X_train, X_test, y_train, y_test = train_test_split(X_prepared, y, test_size=0.2, random_state=42)"
   ]
  },
  {
   "cell_type": "code",
   "execution_count": 55,
   "id": "e61c34c5",
   "metadata": {},
   "outputs": [
    {
     "data": {
      "text/plain": [
       "((59288, 21), (14823, 21))"
      ]
     },
     "execution_count": 55,
     "metadata": {},
     "output_type": "execute_result"
    }
   ],
   "source": [
    "X_train.shape, X_test.shape"
   ]
  },
  {
   "cell_type": "code",
   "execution_count": 56,
   "id": "334fddfb",
   "metadata": {},
   "outputs": [
    {
     "data": {
      "text/plain": [
       "((59288,), (14823,))"
      ]
     },
     "execution_count": 56,
     "metadata": {},
     "output_type": "execute_result"
    }
   ],
   "source": [
    "y_train.shape, y_test.shape"
   ]
  },
  {
   "cell_type": "code",
   "execution_count": 57,
   "id": "078a67be",
   "metadata": {},
   "outputs": [],
   "source": [
    "scores = {}"
   ]
  },
  {
   "cell_type": "code",
   "execution_count": 58,
   "id": "802b3777",
   "metadata": {},
   "outputs": [],
   "source": [
    "# LinearRegression\n",
    "lin_reg = LinearRegression()\n",
    "scores['lin_scores'] = cross_val_score(lin_reg, X_train, y_train, scoring='neg_mean_squared_error', cv=10, n_jobs=-1)\n",
    "\n",
    "# RandomForestRegressor\n",
    "rf_reg = RandomForestRegressor(random_state=42)\n",
    "scores['rf_scores'] = cross_val_score(rf_reg, X_train, y_train, scoring='neg_mean_squared_error', cv=10, n_jobs=-1)\n",
    "\n",
    "# SGDRegressor\n",
    "sgd_reg = SGDRegressor(penalty=None, eta0=0.001, random_state=42)\n",
    "scores['sgd_scores'] = cross_val_score(sgd_reg, X_train, y_train, scoring='neg_mean_squared_error', cv=10, n_jobs=-1)"
   ]
  },
  {
   "cell_type": "code",
   "execution_count": 59,
   "id": "75f42c7e",
   "metadata": {},
   "outputs": [
    {
     "name": "stdout",
     "output_type": "stream",
     "text": [
      "-lin_scores    / /평균: 0.4302918328975496 /표준편차: 0.006667393888454507\n",
      "-rf_scores     / /평균: 0.43449473815057627 /표준편차: 0.006077491379839128\n",
      "-sgd_scores    / /평균: 0.430345568147002 /표준편차: 0.0067070824045228775\n",
      "best_model: lin_scores\n"
     ]
    }
   ],
   "source": [
    "min_score = 1\n",
    "best_model = 'best_model'\n",
    "\n",
    "for k, v in scores.items():\n",
    "    print('-{0:<14}/'.format(k), end=' ')\n",
    "    score = np.sqrt(-v)\n",
    "    print('/평균:', score.mean(), '/표준편차:', score.std())\n",
    "    if min_score >= score.mean():\n",
    "        min_score = score.mean()\n",
    "        best_model = k\n",
    "        \n",
    "print('best_model:', best_model)"
   ]
  },
  {
   "cell_type": "code",
   "execution_count": 60,
   "id": "156e032a",
   "metadata": {},
   "outputs": [],
   "source": [
    "from sklearn.model_selection import GridSearchCV"
   ]
  },
  {
   "cell_type": "code",
   "execution_count": 61,
   "id": "0436d53b",
   "metadata": {},
   "outputs": [
    {
     "name": "stdout",
     "output_type": "stream",
     "text": [
      "Wall time: 16min 47s\n"
     ]
    },
    {
     "data": {
      "text/plain": [
       "GridSearchCV(cv=5, estimator=RandomForestRegressor(random_state=42), n_jobs=-1,\n",
       "             param_grid={'max_features': [4, 6, 8, 10],\n",
       "                         'n_estimators': [10, 50, 100, 150, 200]},\n",
       "             scoring='neg_mean_squared_error')"
      ]
     },
     "execution_count": 61,
     "metadata": {},
     "output_type": "execute_result"
    }
   ],
   "source": [
    "param_grid = {'n_estimators' : [10, 50, 100, 150, 200], 'max_features' : [4, 6, 8, 10]}\n",
    "\n",
    "grid_search = GridSearchCV(rf_reg, param_grid, scoring='neg_mean_squared_error', cv=5, n_jobs=-1)\n",
    "%time grid_search.fit(X_train, y_train)"
   ]
  },
  {
   "cell_type": "code",
   "execution_count": 62,
   "id": "b7855164",
   "metadata": {},
   "outputs": [
    {
     "data": {
      "text/plain": [
       "{'max_features': 6, 'n_estimators': 200}"
      ]
     },
     "execution_count": 62,
     "metadata": {},
     "output_type": "execute_result"
    }
   ],
   "source": [
    "grid_search.best_params_"
   ]
  },
  {
   "cell_type": "code",
   "execution_count": 63,
   "id": "a5a9170d",
   "metadata": {
    "scrolled": true
   },
   "outputs": [
    {
     "name": "stdout",
     "output_type": "stream",
     "text": [
      "0.44436536245005087 {'max_features': 4, 'n_estimators': 10}\n",
      "0.4310976259780144 {'max_features': 4, 'n_estimators': 50}\n",
      "0.4294229315513291 {'max_features': 4, 'n_estimators': 100}\n",
      "0.42871278447361033 {'max_features': 4, 'n_estimators': 150}\n",
      "0.42848948700211514 {'max_features': 4, 'n_estimators': 200}\n",
      "0.4450825633116809 {'max_features': 6, 'n_estimators': 10}\n",
      "0.4311961489191606 {'max_features': 6, 'n_estimators': 50}\n",
      "0.4291794427321841 {'max_features': 6, 'n_estimators': 100}\n",
      "0.4285490005943287 {'max_features': 6, 'n_estimators': 150}\n",
      "0.4284740242700577 {'max_features': 6, 'n_estimators': 200}\n",
      "0.4455651127072156 {'max_features': 8, 'n_estimators': 10}\n",
      "0.43209848227583747 {'max_features': 8, 'n_estimators': 50}\n",
      "0.4301188784349158 {'max_features': 8, 'n_estimators': 100}\n",
      "0.4294511311686339 {'max_features': 8, 'n_estimators': 150}\n",
      "0.4292965525230079 {'max_features': 8, 'n_estimators': 200}\n",
      "0.44703315058597753 {'max_features': 10, 'n_estimators': 10}\n",
      "0.43278159675444244 {'max_features': 10, 'n_estimators': 50}\n",
      "0.43098665378385426 {'max_features': 10, 'n_estimators': 100}\n",
      "0.43015145220385514 {'max_features': 10, 'n_estimators': 150}\n",
      "0.43009362026624826 {'max_features': 10, 'n_estimators': 200}\n"
     ]
    }
   ],
   "source": [
    "cv_results = grid_search.cv_results_\n",
    "for mean_score, params in zip(cv_results['mean_test_score'], cv_results['params']):\n",
    "    print(np.sqrt(-mean_score), params)"
   ]
  },
  {
   "cell_type": "code",
   "execution_count": 64,
   "id": "058e30a0",
   "metadata": {},
   "outputs": [
    {
     "name": "stdout",
     "output_type": "stream",
     "text": [
      "Wall time: 29min 51s\n"
     ]
    },
    {
     "data": {
      "text/plain": [
       "RandomizedSearchCV(cv=5, estimator=RandomForestRegressor(random_state=42),\n",
       "                   n_jobs=-1,\n",
       "                   param_distributions={'max_features': <scipy.stats._distn_infrastructure.rv_discrete_frozen object at 0x000001E5D3C4A130>,\n",
       "                                        'n_estimators': <scipy.stats._distn_infrastructure.rv_discrete_frozen object at 0x000001E5D3BDE970>},\n",
       "                   scoring='neg_mean_squared_error')"
      ]
     },
     "execution_count": 64,
     "metadata": {},
     "output_type": "execute_result"
    }
   ],
   "source": [
    "from sklearn.model_selection import RandomizedSearchCV\n",
    "from scipy.stats import randint\n",
    "\n",
    "param_distribs = {'n_estimators':randint(low=200, high=600), 'max_features':randint(low=1, high=8)}\n",
    "\n",
    "random_search = RandomizedSearchCV(rf_reg, param_distribs, n_iter=10, scoring='neg_mean_squared_error', cv=5, n_jobs=-1) \n",
    "# n_iter : 반복 횟수\n",
    "\n",
    "%time random_search.fit(X_train, y_train)"
   ]
  },
  {
   "cell_type": "code",
   "execution_count": 65,
   "id": "95d32ce3",
   "metadata": {},
   "outputs": [
    {
     "data": {
      "text/plain": [
       "{'max_features': 5, 'n_estimators': 589}"
      ]
     },
     "execution_count": 65,
     "metadata": {},
     "output_type": "execute_result"
    }
   ],
   "source": [
    "random_search.best_params_"
   ]
  },
  {
   "cell_type": "code",
   "execution_count": 66,
   "id": "acdda81c",
   "metadata": {},
   "outputs": [
    {
     "name": "stdout",
     "output_type": "stream",
     "text": [
      "0.42789986598395563 {'max_features': 5, 'n_estimators': 589}\n",
      "0.42801002139074357 {'max_features': 4, 'n_estimators': 376}\n",
      "0.4308609446171341 {'max_features': 1, 'n_estimators': 217}\n",
      "0.428111597390346 {'max_features': 6, 'n_estimators': 360}\n",
      "0.427979936478499 {'max_features': 6, 'n_estimators': 465}\n",
      "0.4287196495049835 {'max_features': 7, 'n_estimators': 269}\n",
      "0.4297198282223856 {'max_features': 2, 'n_estimators': 209}\n",
      "0.4293499387872352 {'max_features': 2, 'n_estimators': 400}\n",
      "0.42928031806453715 {'max_features': 2, 'n_estimators': 476}\n",
      "0.4304583500124867 {'max_features': 1, 'n_estimators': 338}\n"
     ]
    }
   ],
   "source": [
    "cv_results = random_search.cv_results_\n",
    "for mean_score, params in zip(cv_results['mean_test_score'], cv_results['params']):\n",
    "    print(np.sqrt(-mean_score), params)"
   ]
  },
  {
   "cell_type": "code",
   "execution_count": 67,
   "id": "bd630c86",
   "metadata": {},
   "outputs": [],
   "source": [
    "best_model = random_search.best_estimator_"
   ]
  },
  {
   "cell_type": "markdown",
   "id": "6e6cee33",
   "metadata": {},
   "source": [
    "**특성 중요도**"
   ]
  },
  {
   "cell_type": "code",
   "execution_count": 74,
   "id": "ecd802b8",
   "metadata": {},
   "outputs": [],
   "source": [
    "feature_importances = best_model.feature_importances_"
   ]
  },
  {
   "cell_type": "code",
   "execution_count": 83,
   "id": "bddf5d50",
   "metadata": {},
   "outputs": [
    {
     "data": {
      "text/plain": [
       "['property_type',\n",
       " 'property_mean_price',\n",
       " 'city',\n",
       " 'neighbourhood',\n",
       " 'grouped_count',\n",
       " 'grouped_mean_price',\n",
       " 'log_price',\n",
       " 'amenities',\n",
       " 'accommodates',\n",
       " 'bathrooms',\n",
       " 'latitude',\n",
       " 'longitude',\n",
       " 'bedrooms',\n",
       " 'beds',\n",
       " 'room_type_Entire home/apt',\n",
       " 'room_type_Private room',\n",
       " 'room_type_Shared room',\n",
       " 'bed_type_Airbed',\n",
       " 'bed_type_Couch',\n",
       " 'bed_type_Futon',\n",
       " 'bed_type_Pull-out Sofa',\n",
       " 'bed_type_Real Bed',\n",
       " 'cancellation_policy_flexible',\n",
       " 'cancellation_policy_moderate',\n",
       " 'cancellation_policy_strict',\n",
       " 'cancellation_policy_super_strict_30',\n",
       " 'cancellation_policy_super_strict_60']"
      ]
     },
     "execution_count": 83,
     "metadata": {},
     "output_type": "execute_result"
    }
   ],
   "source": [
    "total_attribs = ['property_type', 'property_mean_price', 'city', 'neighbourhood',\n",
    "       'grouped_count', 'grouped_mean_price', 'log_price', 'amenities',\n",
    "       'accommodates', 'bathrooms', 'latitude', 'longitude', 'bedrooms',\n",
    "       'beds', 'room_type_Entire home/apt', 'room_type_Private room',\n",
    "       'room_type_Shared room', 'bed_type_Airbed', 'bed_type_Couch',\n",
    "       'bed_type_Futon', 'bed_type_Pull-out Sofa', 'bed_type_Real Bed',\n",
    "       'cancellation_policy_flexible', 'cancellation_policy_moderate',\n",
    "       'cancellation_policy_strict', 'cancellation_policy_super_strict_30',\n",
    "       'cancellation_policy_super_strict_60']\n",
    "total_attribs"
   ]
  },
  {
   "cell_type": "code",
   "execution_count": 85,
   "id": "05792635",
   "metadata": {},
   "outputs": [
    {
     "data": {
      "text/plain": [
       "array([0.0294061 , 0.07493497, 0.19672519, 0.09904141, 0.09890167,\n",
       "       0.06480293, 0.10724655, 0.04356485, 0.14611648, 0.09554373,\n",
       "       0.01865254, 0.00099167, 0.00073441, 0.00092778, 0.00087032,\n",
       "       0.00223873, 0.0071688 , 0.005201  , 0.00646521, 0.00025005,\n",
       "       0.0002156 ])"
      ]
     },
     "execution_count": 85,
     "metadata": {},
     "output_type": "execute_result"
    }
   ],
   "source": [
    "feature_importances"
   ]
  },
  {
   "cell_type": "code",
   "execution_count": 86,
   "id": "c9b62d48",
   "metadata": {},
   "outputs": [
    {
     "data": {
      "text/plain": [
       "[(0.19672519222230483, 'city'),\n",
       " (0.14611648499550614, 'accommodates'),\n",
       " (0.10724654958517567, 'log_price'),\n",
       " (0.09904140943256771, 'neighbourhood'),\n",
       " (0.09890167201526842, 'grouped_count'),\n",
       " (0.0955437309485958, 'bathrooms'),\n",
       " (0.07493497012600131, 'property_mean_price'),\n",
       " (0.06480293317723515, 'grouped_mean_price'),\n",
       " (0.043564848779714206, 'amenities'),\n",
       " (0.029406098595225683, 'property_type'),\n",
       " (0.01865253836482439, 'latitude'),\n",
       " (0.007168804496052803, 'room_type_Shared room'),\n",
       " (0.0064652103622749495, 'bed_type_Couch'),\n",
       " (0.0052010006881799435, 'bed_type_Airbed'),\n",
       " (0.0022387271446313597, 'room_type_Private room'),\n",
       " (0.000991671161650003, 'longitude'),\n",
       " (0.0009277758144166667, 'beds'),\n",
       " (0.00087032214192032, 'room_type_Entire home/apt'),\n",
       " (0.0007344098725400101, 'bedrooms'),\n",
       " (0.0002500502647951715, 'bed_type_Futon'),\n",
       " (0.00021559981111945537, 'bed_type_Pull-out Sofa')]"
      ]
     },
     "execution_count": 86,
     "metadata": {},
     "output_type": "execute_result"
    }
   ],
   "source": [
    "sorted(zip(feature_importances, total_attribs), reverse=True)"
   ]
  },
  {
   "cell_type": "markdown",
   "id": "a643da92",
   "metadata": {},
   "source": [
    "# 모델 예측과 성능 평가"
   ]
  },
  {
   "cell_type": "code",
   "execution_count": 71,
   "id": "31a0de51",
   "metadata": {},
   "outputs": [
    {
     "data": {
      "text/plain": [
       "((14823, 21), (14823,))"
      ]
     },
     "execution_count": 71,
     "metadata": {},
     "output_type": "execute_result"
    }
   ],
   "source": [
    "X_test.shape, y_test.shape"
   ]
  },
  {
   "cell_type": "code",
   "execution_count": 72,
   "id": "78076224",
   "metadata": {},
   "outputs": [
    {
     "data": {
      "text/plain": [
       "0.42464173398059557"
      ]
     },
     "execution_count": 72,
     "metadata": {},
     "output_type": "execute_result"
    }
   ],
   "source": [
    "from sklearn.metrics import mean_squared_error # MSE 구하기\n",
    "\n",
    "final_predictions = best_model.predict(X_test)\n",
    "final_rmse = mean_squared_error(y_test, final_predictions, squared=False) # squared=False : RMSE 구하기\n",
    "final_rmse"
   ]
  },
  {
   "cell_type": "code",
   "execution_count": 73,
   "id": "c093e880",
   "metadata": {},
   "outputs": [
    {
     "data": {
      "text/plain": [
       "array([0.41124427, 0.43762924])"
      ]
     },
     "execution_count": 73,
     "metadata": {},
     "output_type": "execute_result"
    }
   ],
   "source": [
    "from scipy.stats import t # t분포\n",
    "\n",
    "# 추정량(오차의 제곱들의 합)\n",
    "squared_errors = (final_predictions - y_test)**2\n",
    "\n",
    "# 95% 신뢰구간\n",
    "confidence = 0.95\n",
    "\n",
    "# 표본의 크기\n",
    "n = len(squared_errors)\n",
    "\n",
    "# 자유도(degree of freedom)\n",
    "dof = n - 1 \n",
    "\n",
    "# 추정량의 평균\n",
    "m_squared_error = np.mean(squared_errors)\n",
    "\n",
    "# 표본의 표준편차(비편형 분산으로 구함)\n",
    "sample_std = np.std(squared_errors, ddof=1) # n-1로 나눈 표준편차\n",
    "\n",
    "# 표준 오차\n",
    "std_err = (sample_std/n)**0.5\n",
    "\n",
    "# t.interval(신뢰구간, 자유도, 추정량의 평균(or MSE), 표준오차) # 신뢰구간 계산\n",
    "mse_ci = t.interval(confidence, dof, m_squared_error, std_err)\n",
    "rmse_ci = np.sqrt(mse_ci)\n",
    "rmse_ci # RMSE에 대한 95% 신뢰 구간"
   ]
  },
  {
   "cell_type": "code",
   "execution_count": null,
   "id": "f086031c",
   "metadata": {},
   "outputs": [],
   "source": []
  }
 ],
 "metadata": {
  "kernelspec": {
   "display_name": "Python 3 (ipykernel)",
   "language": "python",
   "name": "python3"
  },
  "language_info": {
   "codemirror_mode": {
    "name": "ipython",
    "version": 3
   },
   "file_extension": ".py",
   "mimetype": "text/x-python",
   "name": "python",
   "nbconvert_exporter": "python",
   "pygments_lexer": "ipython3",
   "version": "3.9.13"
  }
 },
 "nbformat": 4,
 "nbformat_minor": 5
}
